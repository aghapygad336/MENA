{
  "nbformat": 4,
  "nbformat_minor": 0,
  "metadata": {
    "colab": {
      "name": "gtd_happiness.ipynb",
      "provenance": [],
      "include_colab_link": true
    },
    "kernelspec": {
      "name": "python3",
      "display_name": "Python 3"
    },
    "accelerator": "GPU"
  },
  "cells": [
    {
      "cell_type": "markdown",
      "metadata": {
        "id": "view-in-github",
        "colab_type": "text"
      },
      "source": [
        "<a href=\"https://colab.research.google.com/github/aghapygad336/MENA/blob/master/gtd_happiness.ipynb\" target=\"_parent\"><img src=\"https://colab.research.google.com/assets/colab-badge.svg\" alt=\"Open In Colab\"/></a>"
      ]
    },
    {
      "cell_type": "code",
      "metadata": {
        "id": "DdHwAEME_gGk",
        "colab_type": "code",
        "colab": {}
      },
      "source": [
        "from sklearn.preprocessing import MinMaxScaler\n",
        "import pandas as pd\n",
        "import numpy as np\n",
        "from sklearn.feature_selection import SelectKBest\n",
        "from sklearn.feature_selection import chi2\n",
        "from sklearn.ensemble import ExtraTreesClassifier, AdaBoostRegressor\n",
        "import matplotlib.pyplot as plt\n",
        "import seaborn as sns\n",
        "import csv\n",
        "import random\n",
        "import pandas as pd\n",
        "import numpy as np\n",
        "from openpyxl.utils import dataframe\n",
        "from sklearn.model_selection import train_test_split\n",
        "from sklearn.linear_model import LogisticRegression\n",
        "from sklearn.naive_bayes import GaussianNB\n",
        "import seaborn as sns\n",
        "from math import sqrt\n",
        "import matplotlib.pyplot as plt\n",
        "import math\n",
        "from matplotlib import colors as cs\n",
        "from scipy.stats import pearsonr\n",
        "from sklearn.preprocessing import MinMaxScaler\n",
        "from sklearn.preprocessing import scale\n",
        "from sklearn import preprocessing, metrics\n",
        "from sklearn.feature_selection import SelectKBest\n",
        "from sklearn import tree\n",
        "from sklearn.naive_bayes import GaussianNB\n",
        "from sklearn.metrics import f1_score\n",
        "from sklearn.neighbors import KNeighborsClassifier\n",
        "from sklearn.svm import LinearSVC\n",
        "from sklearn.ensemble import RandomForestClassifier\n",
        "from sklearn.ensemble import AdaBoostClassifier\n",
        "from sklearn.metrics import accuracy_score\n",
        "from sklearn.model_selection import cross_val_score\n",
        "from sklearn.model_selection import GridSearchCV\n",
        "from sklearn.metrics import make_scorer, precision_score, recall_score, confusion_matrix\n",
        "from sklearn.tree import DecisionTreeClassifier\n",
        "from sklearn.feature_selection import SelectKBest\n",
        "from sklearn.feature_selection import chi2\n",
        "from sklearn.model_selection import GridSearchCV"
      ],
      "execution_count": 0,
      "outputs": []
    },
    {
      "cell_type": "code",
      "metadata": {
        "id": "r5VDozn1zbJ9",
        "colab_type": "code",
        "outputId": "445eb799-f2ce-4b81-ed3c-d614118cf5d0",
        "colab": {
          "base_uri": "https://localhost:8080/",
          "height": 33
        }
      },
      "source": [
        "from google.colab import drive\n",
        "drive.mount('/content/drive')"
      ],
      "execution_count": 5,
      "outputs": [
        {
          "output_type": "stream",
          "text": [
            "Drive already mounted at /content/drive; to attempt to forcibly remount, call drive.mount(\"/content/drive\", force_remount=True).\n"
          ],
          "name": "stdout"
        }
      ]
    },
    {
      "cell_type": "markdown",
      "metadata": {
        "id": "AcKYyxdelNPQ",
        "colab_type": "text"
      },
      "source": [
        "**The Global Terrorism Database (GTD)** \n",
        "documents more than 190,000 international and domestic terrorist attacks that occurred worldwide since 1970. With details on various dimensions of each attack, the GTD familiarizes analysts, policymakers, scholars, and journalists with patterns of terrorism. The GTD defines terrorist attacks as: Acts by non-state actors involving the threatened or actual use of illegal force or violence to attain a political, economic, religious, or social goal through fear, coercion, or intimidation. Data collection is ongoing and updates are published annually at."
      ]
    },
    {
      "cell_type": "code",
      "metadata": {
        "id": "EKXUR64u0CFS",
        "colab_type": "code",
        "colab": {}
      },
      "source": [
        "import pandas as pd\n",
        "import numpy as np\n",
        "data2015 = pd.read_csv('/content/drive/My Drive/MENA/2015.csv',encoding = \"ISO-8859-1\", engine = 'python')\n",
        "data2016 = pd.read_csv('/content/drive/My Drive/MENA/2016.csv',encoding = \"ISO-8859-1\", engine = 'python')\n",
        "data2017 = pd.read_csv('/content/drive/My Drive/MENA/2017.csv',encoding = \"ISO-8859-1\", engine = 'python')\n",
        "happiness = data2015.append(data2016.append(data2017,sort=True),sort= True)\n",
        "gtd = pd.read_csv('/content/drive/My Drive/MENA/golbal.csv',encoding = \"ISO-8859-1\", engine = 'python', usecols=[1,2,3,8,10,19,20,21,22,26,27,29,35,41,71,84,100,101,103,58])\n",
        "gtd = gtd[(gtd['region_txt'] =='Middle East & North Africa') & (gtd['iyear'] > 2000)]\n",
        "mena = gtd['country_txt']"
      ],
      "execution_count": 0,
      "outputs": []
    },
    {
      "cell_type": "markdown",
      "metadata": {
        "id": "LOeLwyrSlt5V",
        "colab_type": "text"
      },
      "source": [
        "**Missing values** are representative of the messiness of real world data. There can be a multitude of reasons why they occur — ranging from human errors during data entry, incorrect sensor readings, to software bugs in the data processing pipeline.\n",
        "\n",
        "\n"
      ]
    },
    {
      "cell_type": "markdown",
      "metadata": {
        "id": "qQ-hLDHynwqq",
        "colab_type": "text"
      },
      "source": [
        "**Categorial** Let’s start with the most simple thing you can do: removal. As mentioned before, while this is a quick solution, and might work in some cases when the proportion of missing values is relatively low (<10%), most of the time it will make you lose a ton of data. Imagine that just because of missing values in one of your features you have to drop the whole observation, even if the rest of the features are perfectly filled and informative!"
      ]
    },
    {
      "cell_type": "markdown",
      "metadata": {
        "id": "pZvUPchpn6I1",
        "colab_type": "text"
      },
      "source": [
        "**Numerical NaNs** A standard and often very good approach is to replace the missing values with mean, median or mode. For numerical values you should go with mean, and if there are some outliers try median (since it is much less sensitive to them)."
      ]
    },
    {
      "cell_type": "code",
      "metadata": {
        "id": "J-V8yYdK0w3Z",
        "colab_type": "code",
        "colab": {}
      },
      "source": [
        "# gtd missing values\n",
        "numeric_ = gtd._get_numeric_data()\n",
        "cat = gtd.select_dtypes(include='object')\n",
        "mean_nan = numeric_.fillna(numeric_.mean()).dropna(axis=1, how='all')\n",
        "cat_nan = cat.loc[:, cat.isnull().mean() <0.25]\n",
        "gtd = mean_nan.join(cat_nan)\n"
      ],
      "execution_count": 0,
      "outputs": []
    },
    {
      "cell_type": "code",
      "metadata": {
        "id": "aMWTFllUBOxT",
        "colab_type": "code",
        "colab": {}
      },
      "source": [
        "numeric_ = happiness._get_numeric_data()\n",
        "cat = happiness.select_dtypes(include='object')\n",
        "mean_nan = numeric_.fillna(numeric_.mean()).dropna(axis=1, how='all')\n",
        "cat_nan = cat.loc[:, cat.isnull().mean() <0.25]\n",
        "happiness = mean_nan.join(cat_nan)"
      ],
      "execution_count": 0,
      "outputs": []
    },
    {
      "cell_type": "markdown",
      "metadata": {
        "id": "4-ROtG_qoDsi",
        "colab_type": "text"
      },
      "source": [
        "Better encoding of categorical data can mean better model performance. In this series I’ll introduce you to a wide range of encoding options .\n"
      ]
    },
    {
      "cell_type": "code",
      "metadata": {
        "id": "a5YcsrWAfb1X",
        "colab_type": "code",
        "colab": {}
      },
      "source": [
        "def encoding(dfData):    \n",
        "    df = dfData.copy().select_dtypes(include='object')\n",
        "    # print(df.columns)\n",
        "    rows,cols = dfData.shape\n",
        "    encodings = {}\n",
        "    for col in df.columns:\n",
        "        Region_nums = []\n",
        "        Region_nums = df[col].unique()\n",
        "        Region_nums = { Region_nums[i]: i for i in range(len(Region_nums)) }\n",
        "        encodings.update({col:Region_nums})\n",
        "        dfData[col].replace(Region_nums, inplace=True)\n",
        "    return dfData,encodings\n",
        "\n",
        "def get_by_value(dic,value):\n",
        "    for key, val in dic.items():\n",
        "        if val == value :\n",
        "            return key    "
      ],
      "execution_count": 0,
      "outputs": []
    },
    {
      "cell_type": "code",
      "metadata": {
        "id": "0LeKEcq1fz8N",
        "colab_type": "code",
        "colab": {}
      },
      "source": [
        "gtd, gtd_encodings = encoding(gtd)\n",
        "happiness, happiness_encodings = encoding(happiness)\n"
      ],
      "execution_count": 0,
      "outputs": []
    },
    {
      "cell_type": "markdown",
      "metadata": {
        "id": "9laodI92qfJO",
        "colab_type": "text"
      },
      "source": [
        "Having about 600 terrorist group name (class labels), with some groups with less\n",
        "than 10 attacks which may cause misleading results. You are required to reduce the\n",
        "number of class labels to the 5 groups with max number of attacks"
      ]
    },
    {
      "cell_type": "code",
      "metadata": {
        "id": "HK6ODYye9Jdo",
        "colab_type": "code",
        "colab": {}
      },
      "source": [
        "top_5 = gtd['gname'].value_counts()[1:6]\n",
        "top_5 = [203,27,107,67,58]\n",
        "gtd = gtd[gtd['gname'].isin(top_5)]\n"
      ],
      "execution_count": 0,
      "outputs": []
    },
    {
      "cell_type": "code",
      "metadata": {
        "id": "ioH0Hfl4PXbb",
        "colab_type": "code",
        "colab": {}
      },
      "source": [
        "\n",
        "combinedData=pd.merge(gtd, happiness, left_on='country_txt', right_on='Country')\n",
        "happiness, happiness_encodings = encoding(happiness)\n",
        "combinedDataE, combinedData_encodings = encoding(combinedData)\n"
      ],
      "execution_count": 0,
      "outputs": []
    },
    {
      "cell_type": "code",
      "metadata": {
        "id": "fTkfx5VXAPRV",
        "colab_type": "code",
        "colab": {}
      },
      "source": [
        "def SplitTrainTes(dataSet):\n",
        "    train_dataSet=dataSet[(dataSet['iyear'] >=2000) & (dataSet['iyear'] <= 2016)]\n",
        "    test_dataSet=dataSet[dataSet['iyear'] ==2017]\n",
        "    return train_dataSet,test_dataSet"
      ],
      "execution_count": 0,
      "outputs": []
    },
    {
      "cell_type": "markdown",
      "metadata": {
        "id": "6A8C6F4gqiYd",
        "colab_type": "text"
      },
      "source": [
        "**Training and Testing**\n",
        "\n",
        "---\n",
        "\n",
        "\n",
        "a. You are required to use the tuples of years from [2000. 2016] as training set\n",
        "b. Tuples of year 2017 will be used as testing set.\n",
        "c. We have 2 approaches in this assignment\n",
        "i. Train and test using features of GTD only.\n",
        "ii. Train and test using features of GTD and WHR combined."
      ]
    },
    {
      "cell_type": "code",
      "metadata": {
        "id": "g5jPLibb8JAP",
        "colab_type": "code",
        "colab": {}
      },
      "source": [
        "train_GTD,test_GTD=SplitTrainTes(gtd)\n",
        "train_Combined,test_Combined=SplitTrainTes(combinedData)"
      ],
      "execution_count": 0,
      "outputs": []
    },
    {
      "cell_type": "code",
      "metadata": {
        "id": "JVogRdaoDDFf",
        "colab_type": "code",
        "colab": {}
      },
      "source": [
        "def splitX_SplitY(trainD,testD):\n",
        "    x_train = trainD.drop(\"gname\", axis=1)\n",
        "    y_train = trainD[\"gname\"]\n",
        "    x_test = testD.drop(\"gname\", axis=1)\n",
        "    y_test = testD[\"gname\"]\n",
        "    return x_train,y_train,x_test,y_test"
      ],
      "execution_count": 0,
      "outputs": []
    },
    {
      "cell_type": "code",
      "metadata": {
        "id": "ayrOo3y6-nlL",
        "colab_type": "code",
        "colab": {}
      },
      "source": [
        "x_trainGTD,y_trainGTD,x_testGTD,y_testGTD=splitX_SplitY(train_GTD,test_GTD)\n",
        "x_trainCombined,y_trainCombined,x_testCombined,y_testCombined=splitX_SplitY(train_Combined,test_Combined)\n"
      ],
      "execution_count": 0,
      "outputs": []
    },
    {
      "cell_type": "markdown",
      "metadata": {
        "id": "kn7Gay4drqyV",
        "colab_type": "text"
      },
      "source": [
        "**The F measure** \n",
        "\n",
        "---\n",
        "(F1 score or F score) is a measure of a test's accuracy of   **Classifier Models** and is defined as the weighted harmonic mean of the precision and recall of the test. "
      ]
    },
    {
      "cell_type": "code",
      "metadata": {
        "id": "LMGtP-5lEjKY",
        "colab_type": "code",
        "colab": {}
      },
      "source": [
        "from sklearn.metrics import multilabel_confusion_matrix\n",
        "def Fmeasure(estimator,x_train,y_train,x_test,y_test):\n",
        "    y_pred_train = estimator.predict(x_train)\n",
        "    y_pred_test = estimator.predict(x_test)\n",
        "    accuracyF_Train=accuracy_score(y_train, y_pred_train)\n",
        "    accuracyF_Test= accuracy_score(y_test, y_pred_test)\n",
        "    print('Train Set Accuracy : ', accuracyF_Train)\n",
        "    print('Train Set Precision : ', precision_score(y_train, y_pred_train, average='micro'))\n",
        "    print('Train Set Recall : ', recall_score(y_train, y_pred_train, average='micro'))\n",
        "    print('Train F-Score for each class : ', f1_score(y_train, y_pred_train, average='micro'))\n",
        "    print('Train Mean F-Score for both classes : ', f1_score(y_train, y_pred_train, average='micro'))\n",
        "\n",
        "    print('----------------------------------------------------------------------')\n",
        "    print('Test Set Accuracy : ', accuracy_score(y_test, y_pred_test))\n",
        "    print('Test Set Precision : ', precision_score(y_test, y_pred_test, average='micro'))\n",
        "    print('Test Set Recall : ', recall_score(y_test, y_pred_test, average='micro'))\n",
        "    print('Test F-Score for each class : ', f1_score(y_test, y_pred_test, average='micro'))\n",
        "    print('Test Mean F-Score for both classes : ', f1_score(y_test, y_pred_test, average='micro'))\n",
        "\n",
        "    print('----------------------------------------------------------------------')\n",
        "    return accuracyF_Train,accuracyF_Test"
      ],
      "execution_count": 0,
      "outputs": []
    },
    {
      "cell_type": "code",
      "metadata": {
        "id": "AJKQmfXY-kWU",
        "colab_type": "code",
        "colab": {}
      },
      "source": [
        "def kNearestNeighborsFunction(x_train,y_train,x_test,y_test):\n",
        "    neighbors = list(range(1, 30, 2))\n",
        "    # empty list that will hold cv scores\n",
        "    cv_scores = []\n",
        "    # perform 10-fold cross validation\n",
        "    for k in neighbors:\n",
        "        knn = KNeighborsClassifier(n_neighbors=k)\n",
        "        scores = cross_val_score(knn, x_train, y_train, cv=10, scoring='accuracy')\n",
        "        cv_scores.append(scores.mean())\n",
        "\n",
        "    mse = [1 - x for x in cv_scores]\n",
        "    optimal_k = neighbors[mse.index(min(mse))]\n",
        "    n=optimal_k\n",
        "    print('Best N found at ' , n)\n",
        "    knn = KNeighborsClassifier(n_neighbors=n)\n",
        "    knn.fit(x_train,y_train)\n",
        "    testAccKNN,trainAccKNN=Fmeasure(knn,x_train,y_train,x_test,y_test)\n",
        "    return testAccKNN,trainAccKNN\n"
      ],
      "execution_count": 0,
      "outputs": []
    },
    {
      "cell_type": "markdown",
      "metadata": {
        "id": "WmyhYQqBwmxI",
        "colab_type": "text"
      },
      "source": [
        "**The k-nearest neighbors (KNN)** algorithm is a simple, easy-to-implement supervised machine learning algorithm that can be used to solve both classification and regression problems The KNN algorithm assumes that similar things exist in close proximity. In other words, similar things are near to each other.\n",
        "\n"
      ]
    },
    {
      "cell_type": "code",
      "metadata": {
        "id": "VdQfscD1Dcio",
        "colab_type": "code",
        "outputId": "88f11606-6420-4953-838b-10866e58e5da",
        "colab": {
          "base_uri": "https://localhost:8080/",
          "height": 234
        }
      },
      "source": [
        "knnAccuracytestGTD,KnnnAccuracytrainGTD=kNearestNeighborsFunction(x_trainGTD,y_trainGTD,x_testGTD,y_testGTD)"
      ],
      "execution_count": 19,
      "outputs": [
        {
          "output_type": "stream",
          "text": [
            "Best N found at  3\n",
            "Train Set Accuracy :  0.9203720219136196\n",
            "Train Set Precision :  0.9203720219136196\n",
            "Train Set Recall :  0.9203720219136196\n",
            "Train F-Score for each class :  0.9203720219136196\n",
            "Train Mean F-Score for both classes :  0.9203720219136196\n",
            "----------------------------------------------------------------------\n",
            "Test Set Accuracy :  0.8993329290479078\n",
            "Test Set Precision :  0.8993329290479078\n",
            "Test Set Recall :  0.8993329290479078\n",
            "Test F-Score for each class :  0.8993329290479077\n",
            "Test Mean F-Score for both classes :  0.8993329290479077\n",
            "----------------------------------------------------------------------\n"
          ],
          "name": "stdout"
        }
      ]
    },
    {
      "cell_type": "code",
      "metadata": {
        "id": "7-AcAuWQmc85",
        "colab_type": "code",
        "outputId": "c2059a18-c96b-4983-8a32-0f6067fa74be",
        "colab": {
          "base_uri": "https://localhost:8080/",
          "height": 234
        }
      },
      "source": [
        "knnAccuracytestCombined,KnnnAccuracytrainCombined=kNearestNeighborsFunction(x_trainCombined,y_trainCombined,x_testCombined,y_testCombined)\n"
      ],
      "execution_count": 20,
      "outputs": [
        {
          "output_type": "stream",
          "text": [
            "Best N found at  21\n",
            "Train Set Accuracy :  0.9180787361447318\n",
            "Train Set Precision :  0.9180787361447318\n",
            "Train Set Recall :  0.9180787361447318\n",
            "Train F-Score for each class :  0.9180787361447318\n",
            "Train Mean F-Score for both classes :  0.9180787361447318\n",
            "----------------------------------------------------------------------\n",
            "Test Set Accuracy :  0.9145610134087999\n",
            "Test Set Precision :  0.9145610134087999\n",
            "Test Set Recall :  0.9145610134087999\n",
            "Test F-Score for each class :  0.9145610134088\n",
            "Test Mean F-Score for both classes :  0.9145610134088\n",
            "----------------------------------------------------------------------\n"
          ],
          "name": "stdout"
        }
      ]
    },
    {
      "cell_type": "markdown",
      "metadata": {
        "id": "v1CJu9vqw3B6",
        "colab_type": "text"
      },
      "source": [
        "**Decision Trees** A tree has many analogies in real life, and turns out that it has influenced a wide area of machine learning, covering both classification and regression. In decision analysis, a decision tree can be used to visually and explicitly represent decisions and decision making. As the name goes, it uses a tree-like model of decisions. Though a commonly used tool in data mining for deriving a strategy to reach a particular goal, its also widely used in machine learning, which will be the main focus of this article.\n"
      ]
    },
    {
      "cell_type": "code",
      "metadata": {
        "id": "BThSmWAL-tu6",
        "colab_type": "code",
        "colab": {}
      },
      "source": [
        "\n",
        "def DT (x_train,y_train,x_test,y_test):\n",
        "    ct_gini = DecisionTreeClassifier()\n",
        "    ct_entropy = DecisionTreeClassifier(criterion=\"entropy\")\n",
        "    ct_gini = ct_gini.fit(x_train, y_train)\n",
        "    ct_entropy = ct_entropy.fit(x_train, y_train)\n",
        "    testAccDT_Entropy,trainAccDT_Entropy=Fmeasure(ct_entropy,x_train,y_train,x_test,y_test)\n",
        "    testAccDT_Gini,trainAccDT_Gini=Fmeasure(ct_gini,x_train,y_train,x_test,y_test)\n",
        "    return testAccDT_Entropy,trainAccDT_Entropy,testAccDT_Gini,trainAccDT_Gini"
      ],
      "execution_count": 0,
      "outputs": []
    },
    {
      "cell_type": "code",
      "metadata": {
        "id": "Zuya-4z-Du7E",
        "colab_type": "code",
        "colab": {
          "base_uri": "https://localhost:8080/",
          "height": 418
        },
        "outputId": "84cf9f44-d947-4cfe-e3b8-ac7334ae7964"
      },
      "source": [
        "testAccgtdDT_Entropy,trainAccgtdDT_Entropy,testAccgtdDT_Gini,trainAccgtdDT_Gini=DT(x_trainGTD,y_trainGTD,x_testGTD,y_testGTD)"
      ],
      "execution_count": 22,
      "outputs": [
        {
          "output_type": "stream",
          "text": [
            "Train Set Accuracy :  0.9998725952350618\n",
            "Train Set Precision :  0.9998725952350618\n",
            "Train Set Recall :  0.9998725952350618\n",
            "Train F-Score for each class :  0.9998725952350618\n",
            "Train Mean F-Score for both classes :  0.9998725952350618\n",
            "----------------------------------------------------------------------\n",
            "Test Set Accuracy :  0.968465736810188\n",
            "Test Set Precision :  0.968465736810188\n",
            "Test Set Recall :  0.968465736810188\n",
            "Test F-Score for each class :  0.968465736810188\n",
            "Test Mean F-Score for both classes :  0.968465736810188\n",
            "----------------------------------------------------------------------\n",
            "Train Set Accuracy :  0.9998725952350618\n",
            "Train Set Precision :  0.9998725952350618\n",
            "Train Set Recall :  0.9998725952350618\n",
            "Train F-Score for each class :  0.9998725952350618\n",
            "Train Mean F-Score for both classes :  0.9998725952350618\n",
            "----------------------------------------------------------------------\n",
            "Test Set Accuracy :  0.9593693147362038\n",
            "Test Set Precision :  0.9593693147362038\n",
            "Test Set Recall :  0.9593693147362038\n",
            "Test F-Score for each class :  0.9593693147362038\n",
            "Test Mean F-Score for both classes :  0.9593693147362038\n",
            "----------------------------------------------------------------------\n"
          ],
          "name": "stdout"
        }
      ]
    },
    {
      "cell_type": "code",
      "metadata": {
        "id": "fZZXDymbdXJ-",
        "colab_type": "code",
        "colab": {
          "base_uri": "https://localhost:8080/",
          "height": 418
        },
        "outputId": "bc46c0f0-1cf2-4d5a-e5ad-21b37c923491"
      },
      "source": [
        "\n",
        "testAccComDT_Entropy,trainAccComDT_Entropy,testAccComDT_Gini,trainAccComDT_Gini=DT(x_trainCombined,y_trainCombined,x_testCombined,y_testCombined)\n"
      ],
      "execution_count": 23,
      "outputs": [
        {
          "output_type": "stream",
          "text": [
            "Train Set Accuracy :  0.9998725952350618\n",
            "Train Set Precision :  0.9998725952350618\n",
            "Train Set Recall :  0.9998725952350618\n",
            "Train F-Score for each class :  0.9998725952350618\n",
            "Train Mean F-Score for both classes :  0.9998725952350618\n",
            "----------------------------------------------------------------------\n",
            "Test Set Accuracy :  0.9696785930867192\n",
            "Test Set Precision :  0.9696785930867192\n",
            "Test Set Recall :  0.9696785930867192\n",
            "Test F-Score for each class :  0.9696785930867192\n",
            "Test Mean F-Score for both classes :  0.9696785930867192\n",
            "----------------------------------------------------------------------\n",
            "Train Set Accuracy :  0.9998725952350618\n",
            "Train Set Precision :  0.9998725952350618\n",
            "Train Set Recall :  0.9998725952350618\n",
            "Train F-Score for each class :  0.9998725952350618\n",
            "Train Mean F-Score for both classes :  0.9998725952350618\n",
            "----------------------------------------------------------------------\n",
            "Test Set Accuracy :  0.9617950272892662\n",
            "Test Set Precision :  0.9617950272892662\n",
            "Test Set Recall :  0.9617950272892662\n",
            "Test F-Score for each class :  0.9617950272892662\n",
            "Test Mean F-Score for both classes :  0.9617950272892662\n",
            "----------------------------------------------------------------------\n"
          ],
          "name": "stdout"
        }
      ]
    },
    {
      "cell_type": "markdown",
      "metadata": {
        "id": "7YzYg4QDxPeR",
        "colab_type": "text"
      },
      "source": [
        "Classification and prediction are two the most important aspects of Machine Learning and Naive Bayes is a simple but surprisingly powerful algorithm for predictive modeling. \n",
        "Naive Bayes is among one of the simplest, but most powerful algorithms for classification based on Bayes' Theorem with an assumption of independence among predictors. The Naive Bayes model is easy to build and particularly useful for very large data sets. This part to this algorithm: **Naive Bayes**\n"
      ]
    },
    {
      "cell_type": "code",
      "metadata": {
        "id": "H7VLD1rP_RLc",
        "colab_type": "code",
        "colab": {}
      },
      "source": [
        "def NB(x_train,y_train,x_test,y_test):\n",
        "    nb = GaussianNB()\n",
        "    nb = nb.fit(x_train, y_train)\n",
        "    testAccNB,trainAccNB=Fmeasure(nb,x_train,y_train,x_test,y_test)\n",
        "    return testAccNB,trainAccNB"
      ],
      "execution_count": 0,
      "outputs": []
    },
    {
      "cell_type": "code",
      "metadata": {
        "id": "rexxtAV2ID4N",
        "colab_type": "code",
        "colab": {
          "base_uri": "https://localhost:8080/",
          "height": 217
        },
        "outputId": "5c0212a5-3b0f-4e51-d51f-32fddc681ec2"
      },
      "source": [
        "testAccDTgtdNB,trainAccDgtdNB=NB(x_trainGTD,y_trainGTD,x_testGTD,y_testGTD)"
      ],
      "execution_count": 25,
      "outputs": [
        {
          "output_type": "stream",
          "text": [
            "Train Set Accuracy :  0.39482736654350875\n",
            "Train Set Precision :  0.39482736654350875\n",
            "Train Set Recall :  0.39482736654350875\n",
            "Train F-Score for each class :  0.39482736654350875\n",
            "Train Mean F-Score for both classes :  0.39482736654350875\n",
            "----------------------------------------------------------------------\n",
            "Test Set Accuracy :  0.39357186173438446\n",
            "Test Set Precision :  0.39357186173438446\n",
            "Test Set Recall :  0.39357186173438446\n",
            "Test F-Score for each class :  0.39357186173438446\n",
            "Test Mean F-Score for both classes :  0.39357186173438446\n",
            "----------------------------------------------------------------------\n"
          ],
          "name": "stdout"
        }
      ]
    },
    {
      "cell_type": "code",
      "metadata": {
        "id": "FHnYlvnhdbd0",
        "colab_type": "code",
        "colab": {
          "base_uri": "https://localhost:8080/",
          "height": 217
        },
        "outputId": "80798f88-f419-4503-ac25-2be1c9891ae9"
      },
      "source": [
        "testAccDTCombinedNB,trainAccDCombinedNB=NB(x_trainCombined,y_trainCombined,x_testCombined,y_testCombined)\n"
      ],
      "execution_count": 26,
      "outputs": [
        {
          "output_type": "stream",
          "text": [
            "Train Set Accuracy :  0.5140216021856995\n",
            "Train Set Precision :  0.5140216021856995\n",
            "Train Set Recall :  0.5140216021856995\n",
            "Train F-Score for each class :  0.5140216021856995\n",
            "Train Mean F-Score for both classes :  0.5140216021856995\n",
            "----------------------------------------------------------------------\n",
            "Test Set Accuracy :  0.4228825550838892\n",
            "Test Set Precision :  0.4228825550838892\n",
            "Test Set Recall :  0.4228825550838892\n",
            "Test F-Score for each class :  0.4228825550838892\n",
            "Test Mean F-Score for both classes :  0.4228825550838892\n",
            "----------------------------------------------------------------------\n"
          ],
          "name": "stdout"
        }
      ]
    },
    {
      "cell_type": "markdown",
      "metadata": {
        "id": "knrjlH1wxwB4",
        "colab_type": "text"
      },
      "source": [
        "**Logistic Regression** is a ‘Statistical Learning’ technique categorized in ‘Supervised’ Machine Learning (ML) methods dedicated to ‘Classification’ tasks. It has gained a tremendous reputation for last two decades especially in financial sector due to its prominent ability of detecting defaulters. A general usage schema of…\n"
      ]
    },
    {
      "cell_type": "code",
      "metadata": {
        "id": "CJroQvOH_-JA",
        "colab_type": "code",
        "colab": {}
      },
      "source": [
        "def LR(x_train,y_train,x_test,y_test):\n",
        "    import warnings\n",
        "    warnings.filterwarnings(\"ignore\")\n",
        "\n",
        "    grid = {\"C\": np.logspace(-3, 3, 7), \"penalty\": [\"l1\", \"l2\"]}  # l1 lasso l2 ridge\n",
        "    logreg = LogisticRegression()\n",
        "    logreg_cv = GridSearchCV(logreg, grid, cv=10)\n",
        "    logreg_cv.fit(x_train, y_train)\n",
        "    print(\"tuned hpyerparameters :(best parameters) \", logreg_cv.best_params_)\n",
        "    testAccLR,trainAccLR=Fmeasure(logreg_cv,x_train,y_train,x_test,y_test)\n",
        "    print(\"accuracy :\", logreg_cv.best_score_)\n",
        "    return testAccLR,trainAccLR"
      ],
      "execution_count": 0,
      "outputs": []
    },
    {
      "cell_type": "code",
      "metadata": {
        "id": "dcjlJjesfcyt",
        "colab_type": "code",
        "colab": {
          "base_uri": "https://localhost:8080/",
          "height": 251
        },
        "outputId": "cf62e84f-6615-41b9-a726-2c2525d0c125"
      },
      "source": [
        "testAccLR_gtd,trainAccLR_gtd=LR(x_trainGTD,y_trainGTD,x_testGTD,y_testGTD)"
      ],
      "execution_count": 28,
      "outputs": [
        {
          "output_type": "stream",
          "text": [
            "tuned hpyerparameters :(best parameters)  {'C': 1000.0, 'penalty': 'l1'}\n",
            "Train Set Accuracy :  0.78022678048159\n",
            "Train Set Precision :  0.78022678048159\n",
            "Train Set Recall :  0.78022678048159\n",
            "Train F-Score for each class :  0.78022678048159\n",
            "Train Mean F-Score for both classes :  0.78022678048159\n",
            "----------------------------------------------------------------------\n",
            "Test Set Accuracy :  0.8993329290479078\n",
            "Test Set Precision :  0.8993329290479078\n",
            "Test Set Recall :  0.8993329290479078\n",
            "Test F-Score for each class :  0.8993329290479077\n",
            "Test Mean F-Score for both classes :  0.8993329290479077\n",
            "----------------------------------------------------------------------\n",
            "accuracy : 0.7674863039877692\n"
          ],
          "name": "stdout"
        }
      ]
    },
    {
      "cell_type": "code",
      "metadata": {
        "id": "2IbmPxNOAFvg",
        "colab_type": "code",
        "colab": {}
      },
      "source": [
        "def AB(x_train,y_train,x_test,y_test):\n",
        "    import warnings\n",
        "    warnings.filterwarnings(\"ignore\")\n",
        "\n",
        "    param_grid = {\n",
        "        'learning_rate': [.1, .2, .3, .4, .5],\n",
        "\n",
        "        'n_estimators': [50, 100, 150, 200, 250]\n",
        "    }\n",
        "\n",
        "    classifier = AdaBoostClassifier()\n",
        "    grid_Search = GridSearchCV(classifier, param_grid=param_grid)\n",
        "    kk = grid_Search.fit(x_train, y_train)\n",
        "    testAccAB,trainAccAB= Fmeasure(kk,x_train,y_train,x_test,y_test)\n",
        "    return testAccAB,trainAccAB"
      ],
      "execution_count": 0,
      "outputs": []
    },
    {
      "cell_type": "code",
      "metadata": {
        "id": "ZPpRAKjhGrTJ",
        "colab_type": "code",
        "outputId": "005090f9-7e34-42d0-8406-8ddb68134559",
        "colab": {
          "base_uri": "https://localhost:8080/",
          "height": 217
        }
      },
      "source": [
        "testAccAB_gtd,trainAccAB_gtd=AB(x_trainGTD,y_trainGTD,x_testGTD,y_testGTD)"
      ],
      "execution_count": 30,
      "outputs": [
        {
          "output_type": "stream",
          "text": [
            "Train Set Accuracy :  0.909032997834119\n",
            "Train Set Precision :  0.909032997834119\n",
            "Train Set Recall :  0.909032997834119\n",
            "Train F-Score for each class :  0.909032997834119\n",
            "Train Mean F-Score for both classes :  0.909032997834119\n",
            "----------------------------------------------------------------------\n",
            "Test Set Accuracy :  0.9563371740448757\n",
            "Test Set Precision :  0.9563371740448757\n",
            "Test Set Recall :  0.9563371740448757\n",
            "Test F-Score for each class :  0.9563371740448757\n",
            "Test Mean F-Score for both classes :  0.9563371740448757\n",
            "----------------------------------------------------------------------\n"
          ],
          "name": "stdout"
        }
      ]
    },
    {
      "cell_type": "code",
      "metadata": {
        "id": "d-m5B0xEeKZo",
        "colab_type": "code",
        "outputId": "2602d324-2d35-4200-e2f4-fa73a033db02",
        "colab": {
          "base_uri": "https://localhost:8080/",
          "height": 217
        }
      },
      "source": [
        "testAccAB_combined,trainAccAB_combined=AB(x_trainCombined,y_trainCombined,x_testCombined,y_testCombined)\n"
      ],
      "execution_count": 31,
      "outputs": [
        {
          "output_type": "stream",
          "text": [
            "Train Set Accuracy :  0.8701745445279654\n",
            "Train Set Precision :  0.8701745445279654\n",
            "Train Set Recall :  0.8701745445279654\n",
            "Train F-Score for each class :  0.8701745445279654\n",
            "Train Mean F-Score for both classes :  0.8701745445279654\n",
            "----------------------------------------------------------------------\n",
            "Test Set Accuracy :  0.9254093389933293\n",
            "Test Set Precision :  0.9254093389933293\n",
            "Test Set Recall :  0.9254093389933293\n",
            "Test F-Score for each class :  0.9254093389933293\n",
            "Test Mean F-Score for both classes :  0.9254093389933293\n",
            "----------------------------------------------------------------------\n"
          ],
          "name": "stdout"
        }
      ]
    },
    {
      "cell_type": "code",
      "metadata": {
        "id": "09ila-EbAIRn",
        "colab_type": "code",
        "colab": {}
      },
      "source": [
        "def SVM(x_train,y_train,x_test,y_test):\n",
        "    from sklearn.svm import SVC\n",
        "    svclassifier = SVC(kernel='poly', degree=8)\n",
        "    svclassifier.fit(x_train, y_train)\n",
        "    testAccAB_SVM,trainAccAB_SVM=Fmeasure(svclassifier,x_train,y_train,x_test,y_test)\n",
        "    return testAccAB_SVM,trainAccAB_SVM\n"
      ],
      "execution_count": 0,
      "outputs": []
    },
    {
      "cell_type": "code",
      "metadata": {
        "id": "5R8AcIciQkAE",
        "colab_type": "code",
        "colab": {
          "base_uri": "https://localhost:8080/",
          "height": 217
        },
        "outputId": "95de9417-49df-4c30-e6e2-7d160af9d83a"
      },
      "source": [
        "testAccAB_gtd_SVM,trainAccAB_gtd_SVM=SVM(x_trainGTD,y_trainGTD,x_testGTD,y_testGTD)"
      ],
      "execution_count": 33,
      "outputs": [
        {
          "output_type": "stream",
          "text": [
            "Train Set Accuracy :  0.5441457510510893\n",
            "Train Set Precision :  0.5441457510510893\n",
            "Train Set Recall :  0.5441457510510893\n",
            "Train F-Score for each class :  0.5441457510510893\n",
            "Train Mean F-Score for both classes :  0.5441457510510893\n",
            "----------------------------------------------------------------------\n",
            "Test Set Accuracy :  0.7835051546391752\n",
            "Test Set Precision :  0.7835051546391752\n",
            "Test Set Recall :  0.7835051546391752\n",
            "Test F-Score for each class :  0.7835051546391752\n",
            "Test Mean F-Score for both classes :  0.7835051546391752\n",
            "----------------------------------------------------------------------\n"
          ],
          "name": "stdout"
        }
      ]
    },
    {
      "cell_type": "code",
      "metadata": {
        "id": "WnTVNLuJHAOj",
        "colab_type": "code",
        "colab": {
          "base_uri": "https://localhost:8080/",
          "height": 217
        },
        "outputId": "07cb146a-f3cb-4b60-de65-a38523a71684"
      },
      "source": [
        "testAccSVM_combined,trainAccSVM_combined=AB(x_trainCombined,y_trainCombined,x_testCombined,y_testCombined)\n"
      ],
      "execution_count": 34,
      "outputs": [
        {
          "output_type": "stream",
          "text": [
            "Train Set Accuracy :  0.8701745445279654\n",
            "Train Set Precision :  0.8701745445279654\n",
            "Train Set Recall :  0.8701745445279654\n",
            "Train F-Score for each class :  0.8701745445279654\n",
            "Train Mean F-Score for both classes :  0.8701745445279654\n",
            "----------------------------------------------------------------------\n",
            "Test Set Accuracy :  0.9254093389933293\n",
            "Test Set Precision :  0.9254093389933293\n",
            "Test Set Recall :  0.9254093389933293\n",
            "Test F-Score for each class :  0.9254093389933293\n",
            "Test Mean F-Score for both classes :  0.9254093389933293\n",
            "----------------------------------------------------------------------\n"
          ],
          "name": "stdout"
        }
      ]
    },
    {
      "cell_type": "code",
      "metadata": {
        "id": "kS7IlH6znYUH",
        "colab_type": "code",
        "colab": {}
      },
      "source": [
        "fScoreTest=[knnAccuracytestGTD,testAccgtdDT_Entropy,testAccgtdDT_Gini,testAccDTgtdNB,testAccAB_gtd,testAccAB_gtd_SVM]\n",
        "fScoreTrain=[KnnnAccuracytrainGTD,trainAccgtdDT_Entropy,trainAccgtdDT_Gini,trainAccDgtdNB,trainAccAB_gtd,trainAccAB_gtd_SVM]"
      ],
      "execution_count": 0,
      "outputs": []
    },
    {
      "cell_type": "code",
      "metadata": {
        "id": "-JiHtEShYWOB",
        "colab_type": "code",
        "colab": {}
      },
      "source": [
        "fScoreTest_Combined=[knnAccuracytestCombined,testAccComDT_Entropy,testAccComDT_Gini,testAccDTCombinedNB,testAccAB_combined,testAccSVM_combined]\n",
        "fScoreTrain_Combined=[KnnnAccuracytrainCombined,trainAccComDT_Entropy,trainAccComDT_Gini,trainAccDCombinedNB,trainAccAB_combined,trainAccSVM_combined]"
      ],
      "execution_count": 0,
      "outputs": []
    },
    {
      "cell_type": "markdown",
      "metadata": {
        "id": "S0d7Jj5Xl4er",
        "colab_type": "text"
      },
      "source": [
        "**Ploting**"
      ]
    },
    {
      "cell_type": "code",
      "metadata": {
        "id": "dLjwqabMl3nK",
        "colab_type": "code",
        "colab": {}
      },
      "source": [
        "def plotFmeasure(fScoreTrain,fScoreTest):\n",
        "    model_names = ['knn','Decision tree entropy','Decisiontree gini ','Naive Bayes','Adaboost','SVM']\n",
        "   \n",
        "    \n",
        "    \n",
        "    plt.figure()\n",
        "    train=plt.scatter(fScoreTrain,model_names,c='blue')\n",
        "    test=plt.scatter(fScoreTest,model_names,c='red')\n",
        "    plt.xlabel('Fmeasure')\n",
        "    plt.ylabel('Model ')\n",
        "    plt.legend((train,test),\n",
        "           ('Train','Test'),\n",
        "           scatterpoints=1,\n",
        "           loc='lower left',\n",
        "           ncol=3,\n",
        "           fontsize=8)\n",
        "    plt.show()"
      ],
      "execution_count": 0,
      "outputs": []
    },
    {
      "cell_type": "code",
      "metadata": {
        "id": "pKHymcw7rwxq",
        "colab_type": "code",
        "colab": {
          "base_uri": "https://localhost:8080/",
          "height": 279
        },
        "outputId": "81c286fc-9091-4f99-df10-6732d5fe3787"
      },
      "source": [
        "plotFmeasure(fScoreTrain,fScoreTest)"
      ],
      "execution_count": 37,
      "outputs": [
        {
          "output_type": "display_data",
          "data": {
            "image/png": "[encoded data removed]",
            "text/plain": [
              "<Figure size 432x288 with 1 Axes>"
            ]
          },
          "metadata": {
            "tags": []
          }
        }
      ]
    },
    {
      "cell_type": "code",
      "metadata": {
        "id": "uRjGpse6Z7R4",
        "colab_type": "code",
        "colab": {
          "base_uri": "https://localhost:8080/",
          "height": 279
        },
        "outputId": "a7c7b296-78f4-43fa-b890-30a271da700b"
      },
      "source": [
        "plotFmeasure(fScoreTrain_Combined,fScoreTest_Combined)\n"
      ],
      "execution_count": 90,
      "outputs": [
        {
          "output_type": "display_data",
          "data": {
            "image/png": "[encoded data removed]",
            "text/plain": [
              "<Figure size 432x288 with 1 Axes>"
            ]
          },
          "metadata": {
            "tags": []
          }
        }
      ]
    },
    {
      "cell_type": "code",
      "metadata": {
        "id": "6LmswkKHjeGA",
        "colab_type": "code",
        "outputId": "c12afb53-f593-468e-aad2-82503a08437f",
        "colab": {
          "base_uri": "https://localhost:8080/",
          "height": 1000
        }
      },
      "source": [
        "import seaborn as sns\n",
        "suicide = pd.read_csv('/content/drive/My Drive/MENA/suicide.csv')\n",
        "suicide = suicide[suicide['country'].isin(mena)]\n",
        "sns.pairplot(suicide)"
      ],
      "execution_count": 38,
      "outputs": [
        {
          "output_type": "execute_result",
          "data": {
            "text/plain": [
              "<seaborn.axisgrid.PairGrid at 0x7f93d2df6940>"
            ]
          },
          "metadata": {
            "tags": []
          },
          "execution_count": 38
        },
        {
          "output_type": "display_data",
          "data": {
            "image/png": "[encoded data removed]",
            "text/plain": [
              "<Figure size 1080x1080 with 42 Axes>"
            ]
          },
          "metadata": {
            "tags": []
          }
        }
      ]
    },
    {
      "cell_type": "code",
      "metadata": {
        "id": "JY0E6nEVmvLo",
        "colab_type": "code",
        "outputId": "65aacc65-cc37-41b6-8f55-81b51e3bef43",
        "colab": {
          "base_uri": "https://localhost:8080/",
          "height": 84
        }
      },
      "source": [
        "suicide.columns"
      ],
      "execution_count": 39,
      "outputs": [
        {
          "output_type": "execute_result",
          "data": {
            "text/plain": [
              "Index(['country', 'year', 'sex', 'age', 'suicides_no', 'population',\n",
              "       'suicides/100k pop', 'country-year', 'HDI for year',\n",
              "       ' gdp_for_year ($) ', 'gdp_per_capita ($)', 'generation'],\n",
              "      dtype='object')"
            ]
          },
          "metadata": {
            "tags": []
          },
          "execution_count": 39
        }
      ]
    },
    {
      "cell_type": "code",
      "metadata": {
        "id": "SfXOzzVsoxhX",
        "colab_type": "code",
        "outputId": "5447dd56-36f0-4841-8174-108ebb2adcf5",
        "colab": {
          "base_uri": "https://localhost:8080/",
          "height": 312
        }
      },
      "source": [
        "plt.figure()\n",
        "plt.title('suicide number vs gdp')\n",
        "plt.scatter(suicide['gdp_per_capita ($)'],suicide['suicides_no'])\n",
        "plt.xlabel('gdp')\n",
        "plt.ylabel('suicide number')"
      ],
      "execution_count": 40,
      "outputs": [
        {
          "output_type": "execute_result",
          "data": {
            "text/plain": [
              "Text(0, 0.5, 'suicide number')"
            ]
          },
          "metadata": {
            "tags": []
          },
          "execution_count": 40
        },
        {
          "output_type": "display_data",
          "data": {
            "image/png": "[encoded data removed]",
            "text/plain": [
              "<Figure size 432x288 with 1 Axes>"
            ]
          },
          "metadata": {
            "tags": []
          }
        }
      ]
    },
    {
      "cell_type": "code",
      "metadata": {
        "id": "Ih5N0xMEo76C",
        "colab_type": "code",
        "outputId": "804ee2b8-14b4-4f7a-9de2-0e73ebd0206b",
        "colab": {
          "base_uri": "https://localhost:8080/",
          "height": 312
        }
      },
      "source": [
        "plt.figure()\n",
        "plt.title('suicide number vs HDI')\n",
        "plt.scatter(suicide['HDI for year'],suicide['suicides_no'])\n",
        "plt.xlabel('HDI')\n",
        "plt.ylabel('suicide number')"
      ],
      "execution_count": 41,
      "outputs": [
        {
          "output_type": "execute_result",
          "data": {
            "text/plain": [
              "Text(0, 0.5, 'suicide number')"
            ]
          },
          "metadata": {
            "tags": []
          },
          "execution_count": 41
        },
        {
          "output_type": "display_data",
          "data": {
            "image/png": "[encoded data removed]",
            "text/plain": [
              "<Figure size 432x288 with 1 Axes>"
            ]
          },
          "metadata": {
            "tags": []
          }
        }
      ]
    },
    {
      "cell_type": "code",
      "metadata": {
        "id": "y5st510dptiL",
        "colab_type": "code",
        "outputId": "612099a1-c7b4-486e-9552-b2d51a75c6e5",
        "colab": {
          "base_uri": "https://localhost:8080/",
          "height": 312
        }
      },
      "source": [
        "plt.figure()\n",
        "plt.title('gdp vs HDI')\n",
        "plt.scatter(suicide['gdp_per_capita ($)'],suicide['HDI for year'])\n",
        "plt.xlabel('gdp')\n",
        "plt.ylabel('hdi')"
      ],
      "execution_count": 42,
      "outputs": [
        {
          "output_type": "execute_result",
          "data": {
            "text/plain": [
              "Text(0, 0.5, 'hdi')"
            ]
          },
          "metadata": {
            "tags": []
          },
          "execution_count": 42
        },
        {
          "output_type": "display_data",
          "data": {
            "image/png": "[encoded data removed]",
            "text/plain": [
              "<Figure size 432x288 with 1 Axes>"
            ]
          },
          "metadata": {
            "tags": []
          }
        }
      ]
    },
    {
      "cell_type": "code",
      "metadata": {
        "id": "XikU9tfprjkm",
        "colab_type": "code",
        "outputId": "3c47dd6f-a004-4d1d-e49a-da8cdb1c8dbb",
        "colab": {
          "base_uri": "https://localhost:8080/",
          "height": 312
        }
      },
      "source": [
        "plt.figure()\n",
        "plt.title('sex vs suicide number')\n",
        "plt.scatter(suicide['suicides_no'],suicide['sex'])\n",
        "plt.ylabel('sex')\n",
        "plt.xlabel('suicide number')"
      ],
      "execution_count": 43,
      "outputs": [
        {
          "output_type": "execute_result",
          "data": {
            "text/plain": [
              "Text(0.5, 0, 'suicide number')"
            ]
          },
          "metadata": {
            "tags": []
          },
          "execution_count": 43
        },
        {
          "output_type": "display_data",
          "data": {
            "image/png": "[encoded data removed]",
            "text/plain": [
              "<Figure size 432x288 with 1 Axes>"
            ]
          },
          "metadata": {
            "tags": []
          }
        }
      ]
    },
    {
      "cell_type": "code",
      "metadata": {
        "id": "OY8IsVZ7r0f6",
        "colab_type": "code",
        "outputId": "eed33d90-b89f-4149-e917-302bae220b75",
        "colab": {
          "base_uri": "https://localhost:8080/",
          "height": 312
        }
      },
      "source": [
        "plt.figure()\n",
        "plt.title('age vs suicide number')\n",
        "plt.scatter(suicide['age'],suicide['suicides_no'])\n",
        "plt.xlabel('age')\n",
        "plt.ylabel('suicide number')"
      ],
      "execution_count": 44,
      "outputs": [
        {
          "output_type": "execute_result",
          "data": {
            "text/plain": [
              "Text(0, 0.5, 'suicide number')"
            ]
          },
          "metadata": {
            "tags": []
          },
          "execution_count": 44
        },
        {
          "output_type": "display_data",
          "data": {
            "image/png": "[encoded data removed]",
            "text/plain": [
              "<Figure size 432x288 with 1 Axes>"
            ]
          },
          "metadata": {
            "tags": []
          }
        }
      ]
    },
    {
      "cell_type": "code",
      "metadata": {
        "id": "JLHjgtOTqpMv",
        "colab_type": "code",
        "outputId": "44eb593f-2b12-434a-9a30-a9fc2694bfe2",
        "colab": {
          "base_uri": "https://localhost:8080/",
          "height": 478
        }
      },
      "source": [
        "plt.figure(figsize=(10,6))\n",
        "sns.heatmap(suicide.corr(),annot=True)"
      ],
      "execution_count": 45,
      "outputs": [
        {
          "output_type": "execute_result",
          "data": {
            "text/plain": [
              "<matplotlib.axes._subplots.AxesSubplot at 0x7f93d2a5f5c0>"
            ]
          },
          "metadata": {
            "tags": []
          },
          "execution_count": 45
        },
        {
          "output_type": "display_data",
          "data": {
            "image/png": "[encoded data removed]",
            "text/plain": [
              "<Figure size 720x432 with 2 Axes>"
            ]
          },
          "metadata": {
            "tags": []
          }
        }
      ]
    },
    {
      "cell_type": "code",
      "metadata": {
        "id": "U_yQDfReuBcf",
        "colab_type": "code",
        "colab": {}
      },
      "source": [
        "suicide.drop(['age','sex'],axis=1,inplace=True)"
      ],
      "execution_count": 0,
      "outputs": []
    },
    {
      "cell_type": "code",
      "metadata": {
        "id": "PQFVWKa-vDoC",
        "colab_type": "code",
        "outputId": "98129c1f-a869-49de-e628-e0841204498e",
        "colab": {
          "base_uri": "https://localhost:8080/",
          "height": 184
        }
      },
      "source": [
        "for col in suicide.columns:\n",
        "    print(col,suicide[col].isna().sum())"
      ],
      "execution_count": 47,
      "outputs": [
        {
          "output_type": "stream",
          "text": [
            "country 0\n",
            "year 0\n",
            "suicides_no 0\n",
            "population 0\n",
            "suicides/100k pop 0\n",
            "country-year 0\n",
            "HDI for year 766\n",
            " gdp_for_year ($)  0\n",
            "gdp_per_capita ($) 0\n",
            "generation 0\n"
          ],
          "name": "stdout"
        }
      ]
    },
    {
      "cell_type": "code",
      "metadata": {
        "id": "MPmMzFUevfsa",
        "colab_type": "code",
        "outputId": "b036ad6d-6eb7-45cc-ec85-da06080bc1d9",
        "colab": {
          "base_uri": "https://localhost:8080/",
          "height": 369
        }
      },
      "source": [
        "sns.heatmap(suicide.isna())"
      ],
      "execution_count": 48,
      "outputs": [
        {
          "output_type": "execute_result",
          "data": {
            "text/plain": [
              "<matplotlib.axes._subplots.AxesSubplot at 0x7f93cdb1cf60>"
            ]
          },
          "metadata": {
            "tags": []
          },
          "execution_count": 48
        },
        {
          "output_type": "display_data",
          "data": {
            "image/png": "[encoded data removed]",
            "text/plain": [
              "<Figure size 432x288 with 2 Axes>"
            ]
          },
          "metadata": {
            "tags": []
          }
        }
      ]
    },
    {
      "cell_type": "code",
      "metadata": {
        "id": "inMtxw4YvrcU",
        "colab_type": "code",
        "colab": {}
      },
      "source": [
        "suicide.drop(['HDI for year'],axis=1,inplace=True)"
      ],
      "execution_count": 0,
      "outputs": []
    },
    {
      "cell_type": "code",
      "metadata": {
        "id": "YuLCyoBxq2Il",
        "colab_type": "code",
        "outputId": "64c14178-60a6-4fda-b7eb-7f6b84ad0522",
        "colab": {
          "base_uri": "https://localhost:8080/",
          "height": 100
        }
      },
      "source": [
        "gtd.columns"
      ],
      "execution_count": 50,
      "outputs": [
        {
          "output_type": "execute_result",
          "data": {
            "text/plain": [
              "Index(['iyear', 'imonth', 'iday', 'crit1', 'crit2', 'crit3', 'doubtterr',\n",
              "       'success', 'suicide', 'claimed', 'nkillter', 'nwound', 'nwoundte',\n",
              "       'country_txt', 'region_txt', 'attacktype1_txt', 'targtype1_txt',\n",
              "       'natlty1_txt', 'gname', 'weapsubtype1_txt'],\n",
              "      dtype='object')"
            ]
          },
          "metadata": {
            "tags": []
          },
          "execution_count": 50
        }
      ]
    },
    {
      "cell_type": "code",
      "metadata": {
        "id": "cgziFbskwBm7",
        "colab_type": "code",
        "outputId": "a03c766a-9e42-4203-fd03-c16bfcc005e5",
        "colab": {
          "base_uri": "https://localhost:8080/",
          "height": 368
        }
      },
      "source": [
        "gtd_encodings['country_txt']"
      ],
      "execution_count": 51,
      "outputs": [
        {
          "output_type": "execute_result",
          "data": {
            "text/plain": [
              "{'Algeria': 2,\n",
              " 'Bahrain': 14,\n",
              " 'Egypt': 17,\n",
              " 'International': 13,\n",
              " 'Iran': 5,\n",
              " 'Iraq': 7,\n",
              " 'Israel': 3,\n",
              " 'Jordan': 10,\n",
              " 'Kuwait': 8,\n",
              " 'Lebanon': 9,\n",
              " 'Libya': 18,\n",
              " 'Morocco': 15,\n",
              " 'Qatar': 12,\n",
              " 'Saudi Arabia': 6,\n",
              " 'Syria': 16,\n",
              " 'Tunisia': 11,\n",
              " 'Turkey': 1,\n",
              " 'United Arab Emirates': 20,\n",
              " 'West Bank and Gaza Strip': 4,\n",
              " 'Western Sahara': 19,\n",
              " 'Yemen': 0}"
            ]
          },
          "metadata": {
            "tags": []
          },
          "execution_count": 51
        }
      ]
    },
    {
      "cell_type": "code",
      "metadata": {
        "id": "dxa9EC91wEBX",
        "colab_type": "code",
        "colab": {}
      },
      "source": [
        "\n",
        "suicide['country'].replace(gtd_encodings['country_txt'],inplace=True)"
      ],
      "execution_count": 0,
      "outputs": []
    },
    {
      "cell_type": "code",
      "metadata": {
        "id": "sRZaP-lFwT__",
        "colab_type": "code",
        "colab": {}
      },
      "source": [
        "suicide.drop('country-year',axis=1,inplace=True)\n",
        "suicide.drop(' gdp_for_year ($) ',axis=1,inplace=True)"
      ],
      "execution_count": 0,
      "outputs": []
    },
    {
      "cell_type": "code",
      "metadata": {
        "id": "Uu617OOUw1iC",
        "colab_type": "code",
        "outputId": "fe87bde9-6010-4ed3-864a-c232232f8e09",
        "colab": {
          "base_uri": "https://localhost:8080/",
          "height": 404
        }
      },
      "source": [
        "suicide"
      ],
      "execution_count": 54,
      "outputs": [
        {
          "output_type": "execute_result",
          "data": {
            "text/html": [
              "<div>\n",
              "<style scoped>\n",
              "    .dataframe tbody tr th:only-of-type {\n",
              "        vertical-align: middle;\n",
              "    }\n",
              "\n",
              "    .dataframe tbody tr th {\n",
              "        vertical-align: top;\n",
              "    }\n",
              "\n",
              "    .dataframe thead th {\n",
              "        text-align: right;\n",
              "    }\n",
              "</style>\n",
              "<table border=\"1\" class=\"dataframe\">\n",
              "  <thead>\n",
              "    <tr style=\"text-align: right;\">\n",
              "      <th></th>\n",
              "      <th>country</th>\n",
              "      <th>year</th>\n",
              "      <th>suicides_no</th>\n",
              "      <th>population</th>\n",
              "      <th>suicides/100k pop</th>\n",
              "      <th>gdp_per_capita ($)</th>\n",
              "      <th>generation</th>\n",
              "    </tr>\n",
              "  </thead>\n",
              "  <tbody>\n",
              "    <tr>\n",
              "      <th>2636</th>\n",
              "      <td>14</td>\n",
              "      <td>1985</td>\n",
              "      <td>7</td>\n",
              "      <td>67600</td>\n",
              "      <td>10.36</td>\n",
              "      <td>9980</td>\n",
              "      <td>Boomers</td>\n",
              "    </tr>\n",
              "    <tr>\n",
              "      <th>2637</th>\n",
              "      <td>14</td>\n",
              "      <td>1985</td>\n",
              "      <td>3</td>\n",
              "      <td>49700</td>\n",
              "      <td>6.04</td>\n",
              "      <td>9980</td>\n",
              "      <td>Silent</td>\n",
              "    </tr>\n",
              "    <tr>\n",
              "      <th>2638</th>\n",
              "      <td>14</td>\n",
              "      <td>1985</td>\n",
              "      <td>1</td>\n",
              "      <td>26900</td>\n",
              "      <td>3.72</td>\n",
              "      <td>9980</td>\n",
              "      <td>Silent</td>\n",
              "    </tr>\n",
              "    <tr>\n",
              "      <th>2639</th>\n",
              "      <td>14</td>\n",
              "      <td>1985</td>\n",
              "      <td>0</td>\n",
              "      <td>37800</td>\n",
              "      <td>0.00</td>\n",
              "      <td>9980</td>\n",
              "      <td>Generation X</td>\n",
              "    </tr>\n",
              "    <tr>\n",
              "      <th>2640</th>\n",
              "      <td>14</td>\n",
              "      <td>1985</td>\n",
              "      <td>0</td>\n",
              "      <td>27600</td>\n",
              "      <td>0.00</td>\n",
              "      <td>9980</td>\n",
              "      <td>Boomers</td>\n",
              "    </tr>\n",
              "    <tr>\n",
              "      <th>...</th>\n",
              "      <td>...</td>\n",
              "      <td>...</td>\n",
              "      <td>...</td>\n",
              "      <td>...</td>\n",
              "      <td>...</td>\n",
              "      <td>...</td>\n",
              "      <td>...</td>\n",
              "    </tr>\n",
              "    <tr>\n",
              "      <th>26471</th>\n",
              "      <td>20</td>\n",
              "      <td>2010</td>\n",
              "      <td>10</td>\n",
              "      <td>730245</td>\n",
              "      <td>1.37</td>\n",
              "      <td>36964</td>\n",
              "      <td>Millenials</td>\n",
              "    </tr>\n",
              "    <tr>\n",
              "      <th>26472</th>\n",
              "      <td>20</td>\n",
              "      <td>2010</td>\n",
              "      <td>1</td>\n",
              "      <td>533458</td>\n",
              "      <td>0.19</td>\n",
              "      <td>36964</td>\n",
              "      <td>Generation X</td>\n",
              "    </tr>\n",
              "    <tr>\n",
              "      <th>26473</th>\n",
              "      <td>20</td>\n",
              "      <td>2010</td>\n",
              "      <td>0</td>\n",
              "      <td>329210</td>\n",
              "      <td>0.00</td>\n",
              "      <td>36964</td>\n",
              "      <td>Generation Z</td>\n",
              "    </tr>\n",
              "    <tr>\n",
              "      <th>26474</th>\n",
              "      <td>20</td>\n",
              "      <td>2010</td>\n",
              "      <td>0</td>\n",
              "      <td>6996</td>\n",
              "      <td>0.00</td>\n",
              "      <td>36964</td>\n",
              "      <td>Silent</td>\n",
              "    </tr>\n",
              "    <tr>\n",
              "      <th>26475</th>\n",
              "      <td>20</td>\n",
              "      <td>2010</td>\n",
              "      <td>0</td>\n",
              "      <td>346223</td>\n",
              "      <td>0.00</td>\n",
              "      <td>36964</td>\n",
              "      <td>Generation Z</td>\n",
              "    </tr>\n",
              "  </tbody>\n",
              "</table>\n",
              "<p>1258 rows × 7 columns</p>\n",
              "</div>"
            ],
            "text/plain": [
              "       country  year  ...  gdp_per_capita ($)    generation\n",
              "2636        14  1985  ...                9980       Boomers\n",
              "2637        14  1985  ...                9980        Silent\n",
              "2638        14  1985  ...                9980        Silent\n",
              "2639        14  1985  ...                9980  Generation X\n",
              "2640        14  1985  ...                9980       Boomers\n",
              "...        ...   ...  ...                 ...           ...\n",
              "26471       20  2010  ...               36964    Millenials\n",
              "26472       20  2010  ...               36964  Generation X\n",
              "26473       20  2010  ...               36964  Generation Z\n",
              "26474       20  2010  ...               36964        Silent\n",
              "26475       20  2010  ...               36964  Generation Z\n",
              "\n",
              "[1258 rows x 7 columns]"
            ]
          },
          "metadata": {
            "tags": []
          },
          "execution_count": 54
        }
      ]
    },
    {
      "cell_type": "code",
      "metadata": {
        "id": "hVI00AjExoAB",
        "colab_type": "code",
        "colab": {}
      },
      "source": [
        "Region_nums = suicide['generation'].unique()\n",
        "Region_nums = { Region_nums[i]: i for i in range(len(Region_nums)) }\n",
        "suicide['generation'].replace(Region_nums, inplace=True)"
      ],
      "execution_count": 0,
      "outputs": []
    },
    {
      "cell_type": "code",
      "metadata": {
        "id": "smM97wH-xvEL",
        "colab_type": "code",
        "outputId": "5b26bef0-bf55-4b0b-8a5f-a66e9971e943",
        "colab": {
          "base_uri": "https://localhost:8080/",
          "height": 67
        }
      },
      "source": [
        "suicide.year.unique()"
      ],
      "execution_count": 56,
      "outputs": [
        {
          "output_type": "execute_result",
          "data": {
            "text/plain": [
              "array([1985, 1987, 1988, 1997, 1998, 1999, 2000, 2001, 2002, 2003, 2004,\n",
              "       2005, 2006, 2007, 2008, 2009, 2010, 2011, 2012, 2013, 2014, 1986,\n",
              "       1989, 1990, 1991, 1992, 1993, 1994, 1995, 1996, 2015, 2016])"
            ]
          },
          "metadata": {
            "tags": []
          },
          "execution_count": 56
        }
      ]
    },
    {
      "cell_type": "code",
      "metadata": {
        "id": "2Cjl8uj60mPa",
        "colab_type": "code",
        "colab": {}
      },
      "source": [
        "suicide.rename(columns={\"year\": \"iyear\", \"country\": \"country_txt\"},inplace=True)"
      ],
      "execution_count": 0,
      "outputs": []
    },
    {
      "cell_type": "code",
      "metadata": {
        "id": "QvfHyYAQyc5f",
        "colab_type": "code",
        "colab": {}
      },
      "source": [
        "gtd_suicide = pd.merge(gtd,suicide,on=['iyear','country_txt'])"
      ],
      "execution_count": 0,
      "outputs": []
    },
    {
      "cell_type": "code",
      "metadata": {
        "id": "6Ya5re4-zSn0",
        "colab_type": "code",
        "outputId": "077b490e-80d0-4df0-bf81-aa508237ab75",
        "colab": {
          "base_uri": "https://localhost:8080/",
          "height": 97
        }
      },
      "source": [
        "gtd[gtd['iyear'] == 2001]"
      ],
      "execution_count": 78,
      "outputs": [
        {
          "output_type": "execute_result",
          "data": {
            "text/html": [
              "<div>\n",
              "<style scoped>\n",
              "    .dataframe tbody tr th:only-of-type {\n",
              "        vertical-align: middle;\n",
              "    }\n",
              "\n",
              "    .dataframe tbody tr th {\n",
              "        vertical-align: top;\n",
              "    }\n",
              "\n",
              "    .dataframe thead th {\n",
              "        text-align: right;\n",
              "    }\n",
              "</style>\n",
              "<table border=\"1\" class=\"dataframe\">\n",
              "  <thead>\n",
              "    <tr style=\"text-align: right;\">\n",
              "      <th></th>\n",
              "      <th>iyear</th>\n",
              "      <th>imonth</th>\n",
              "      <th>iday</th>\n",
              "      <th>crit1</th>\n",
              "      <th>crit2</th>\n",
              "      <th>crit3</th>\n",
              "      <th>doubtterr</th>\n",
              "      <th>success</th>\n",
              "      <th>suicide</th>\n",
              "      <th>claimed</th>\n",
              "      <th>nkillter</th>\n",
              "      <th>nwound</th>\n",
              "      <th>nwoundte</th>\n",
              "      <th>country_txt</th>\n",
              "      <th>region_txt</th>\n",
              "      <th>attacktype1_txt</th>\n",
              "      <th>targtype1_txt</th>\n",
              "      <th>natlty1_txt</th>\n",
              "      <th>gname</th>\n",
              "      <th>weapsubtype1_txt</th>\n",
              "    </tr>\n",
              "  </thead>\n",
              "  <tbody>\n",
              "    <tr>\n",
              "      <th>72138</th>\n",
              "      <td>2001</td>\n",
              "      <td>4</td>\n",
              "      <td>4</td>\n",
              "      <td>1</td>\n",
              "      <td>1</td>\n",
              "      <td>1</td>\n",
              "      <td>0.0</td>\n",
              "      <td>1</td>\n",
              "      <td>0</td>\n",
              "      <td>0.0</td>\n",
              "      <td>0.0</td>\n",
              "      <td>2.0</td>\n",
              "      <td>0.0</td>\n",
              "      <td>7</td>\n",
              "      <td>0</td>\n",
              "      <td>0</td>\n",
              "      <td>7</td>\n",
              "      <td>10</td>\n",
              "      <td>27</td>\n",
              "      <td>15</td>\n",
              "    </tr>\n",
              "  </tbody>\n",
              "</table>\n",
              "</div>"
            ],
            "text/plain": [
              "       iyear  imonth  iday  ...  natlty1_txt  gname  weapsubtype1_txt\n",
              "72138   2001       4     4  ...           10     27                15\n",
              "\n",
              "[1 rows x 20 columns]"
            ]
          },
          "metadata": {
            "tags": []
          },
          "execution_count": 78
        }
      ]
    },
    {
      "cell_type": "code",
      "metadata": {
        "id": "Ej5HBUMt88u6",
        "colab_type": "code",
        "outputId": "f1c76e13-8c86-4376-c98d-682a43f1b5e4",
        "colab": {
          "base_uri": "https://localhost:8080/",
          "height": 47
        }
      },
      "source": [
        "suicide[(suicide['iyear'] == 2001) & (suicide['country_txt']==7)]"
      ],
      "execution_count": 80,
      "outputs": [
        {
          "output_type": "execute_result",
          "data": {
            "text/html": [
              "<div>\n",
              "<style scoped>\n",
              "    .dataframe tbody tr th:only-of-type {\n",
              "        vertical-align: middle;\n",
              "    }\n",
              "\n",
              "    .dataframe tbody tr th {\n",
              "        vertical-align: top;\n",
              "    }\n",
              "\n",
              "    .dataframe thead th {\n",
              "        text-align: right;\n",
              "    }\n",
              "</style>\n",
              "<table border=\"1\" class=\"dataframe\">\n",
              "  <thead>\n",
              "    <tr style=\"text-align: right;\">\n",
              "      <th></th>\n",
              "      <th>country_txt</th>\n",
              "      <th>iyear</th>\n",
              "      <th>suicides_no</th>\n",
              "      <th>population</th>\n",
              "      <th>suicides/100k pop</th>\n",
              "      <th>gdp_per_capita ($)</th>\n",
              "      <th>generation</th>\n",
              "    </tr>\n",
              "  </thead>\n",
              "  <tbody>\n",
              "  </tbody>\n",
              "</table>\n",
              "</div>"
            ],
            "text/plain": [
              "Empty DataFrame\n",
              "Columns: [country_txt, iyear, suicides_no, population, suicides/100k pop, gdp_per_capita ($), generation]\n",
              "Index: []"
            ]
          },
          "metadata": {
            "tags": []
          },
          "execution_count": 80
        }
      ]
    },
    {
      "cell_type": "code",
      "metadata": {
        "id": "RqqCTDzIzTAg",
        "colab_type": "code",
        "outputId": "a273bce6-df0d-4068-fc7b-5e28dee1ee14",
        "colab": {
          "base_uri": "https://localhost:8080/",
          "height": 441
        }
      },
      "source": [
        "gtd_suicide"
      ],
      "execution_count": 61,
      "outputs": [
        {
          "output_type": "execute_result",
          "data": {
            "text/html": [
              "<div>\n",
              "<style scoped>\n",
              "    .dataframe tbody tr th:only-of-type {\n",
              "        vertical-align: middle;\n",
              "    }\n",
              "\n",
              "    .dataframe tbody tr th {\n",
              "        vertical-align: top;\n",
              "    }\n",
              "\n",
              "    .dataframe thead th {\n",
              "        text-align: right;\n",
              "    }\n",
              "</style>\n",
              "<table border=\"1\" class=\"dataframe\">\n",
              "  <thead>\n",
              "    <tr style=\"text-align: right;\">\n",
              "      <th></th>\n",
              "      <th>iyear</th>\n",
              "      <th>imonth</th>\n",
              "      <th>iday</th>\n",
              "      <th>crit1</th>\n",
              "      <th>crit2</th>\n",
              "      <th>crit3</th>\n",
              "      <th>doubtterr</th>\n",
              "      <th>success</th>\n",
              "      <th>suicide</th>\n",
              "      <th>claimed</th>\n",
              "      <th>nkillter</th>\n",
              "      <th>nwound</th>\n",
              "      <th>nwoundte</th>\n",
              "      <th>country_txt</th>\n",
              "      <th>region_txt</th>\n",
              "      <th>attacktype1_txt</th>\n",
              "      <th>targtype1_txt</th>\n",
              "      <th>natlty1_txt</th>\n",
              "      <th>gname</th>\n",
              "      <th>weapsubtype1_txt</th>\n",
              "      <th>suicides_no</th>\n",
              "      <th>population</th>\n",
              "      <th>suicides/100k pop</th>\n",
              "      <th>gdp_per_capita ($)</th>\n",
              "      <th>generation</th>\n",
              "    </tr>\n",
              "  </thead>\n",
              "  <tbody>\n",
              "    <tr>\n",
              "      <th>0</th>\n",
              "      <td>2009</td>\n",
              "      <td>5</td>\n",
              "      <td>28</td>\n",
              "      <td>1</td>\n",
              "      <td>1</td>\n",
              "      <td>1</td>\n",
              "      <td>0.0</td>\n",
              "      <td>1</td>\n",
              "      <td>0</td>\n",
              "      <td>1.0</td>\n",
              "      <td>0.0</td>\n",
              "      <td>0.0</td>\n",
              "      <td>0.0</td>\n",
              "      <td>1</td>\n",
              "      <td>0</td>\n",
              "      <td>6</td>\n",
              "      <td>5</td>\n",
              "      <td>1</td>\n",
              "      <td>27</td>\n",
              "      <td>12</td>\n",
              "      <td>33</td>\n",
              "      <td>806623</td>\n",
              "      <td>4.09</td>\n",
              "      <td>9773</td>\n",
              "      <td>1</td>\n",
              "    </tr>\n",
              "    <tr>\n",
              "      <th>1</th>\n",
              "      <td>2009</td>\n",
              "      <td>5</td>\n",
              "      <td>28</td>\n",
              "      <td>1</td>\n",
              "      <td>1</td>\n",
              "      <td>1</td>\n",
              "      <td>0.0</td>\n",
              "      <td>1</td>\n",
              "      <td>0</td>\n",
              "      <td>1.0</td>\n",
              "      <td>0.0</td>\n",
              "      <td>0.0</td>\n",
              "      <td>0.0</td>\n",
              "      <td>1</td>\n",
              "      <td>0</td>\n",
              "      <td>6</td>\n",
              "      <td>5</td>\n",
              "      <td>1</td>\n",
              "      <td>27</td>\n",
              "      <td>12</td>\n",
              "      <td>130</td>\n",
              "      <td>3897113</td>\n",
              "      <td>3.34</td>\n",
              "      <td>9773</td>\n",
              "      <td>1</td>\n",
              "    </tr>\n",
              "    <tr>\n",
              "      <th>2</th>\n",
              "      <td>2009</td>\n",
              "      <td>5</td>\n",
              "      <td>28</td>\n",
              "      <td>1</td>\n",
              "      <td>1</td>\n",
              "      <td>1</td>\n",
              "      <td>0.0</td>\n",
              "      <td>1</td>\n",
              "      <td>0</td>\n",
              "      <td>1.0</td>\n",
              "      <td>0.0</td>\n",
              "      <td>0.0</td>\n",
              "      <td>0.0</td>\n",
              "      <td>1</td>\n",
              "      <td>0</td>\n",
              "      <td>6</td>\n",
              "      <td>5</td>\n",
              "      <td>1</td>\n",
              "      <td>27</td>\n",
              "      <td>12</td>\n",
              "      <td>287</td>\n",
              "      <td>9160329</td>\n",
              "      <td>3.13</td>\n",
              "      <td>9773</td>\n",
              "      <td>0</td>\n",
              "    </tr>\n",
              "    <tr>\n",
              "      <th>3</th>\n",
              "      <td>2009</td>\n",
              "      <td>5</td>\n",
              "      <td>28</td>\n",
              "      <td>1</td>\n",
              "      <td>1</td>\n",
              "      <td>1</td>\n",
              "      <td>0.0</td>\n",
              "      <td>1</td>\n",
              "      <td>0</td>\n",
              "      <td>1.0</td>\n",
              "      <td>0.0</td>\n",
              "      <td>0.0</td>\n",
              "      <td>0.0</td>\n",
              "      <td>1</td>\n",
              "      <td>0</td>\n",
              "      <td>6</td>\n",
              "      <td>5</td>\n",
              "      <td>1</td>\n",
              "      <td>27</td>\n",
              "      <td>12</td>\n",
              "      <td>189</td>\n",
              "      <td>6272520</td>\n",
              "      <td>3.01</td>\n",
              "      <td>9773</td>\n",
              "      <td>2</td>\n",
              "    </tr>\n",
              "    <tr>\n",
              "      <th>4</th>\n",
              "      <td>2009</td>\n",
              "      <td>5</td>\n",
              "      <td>28</td>\n",
              "      <td>1</td>\n",
              "      <td>1</td>\n",
              "      <td>1</td>\n",
              "      <td>0.0</td>\n",
              "      <td>1</td>\n",
              "      <td>0</td>\n",
              "      <td>1.0</td>\n",
              "      <td>0.0</td>\n",
              "      <td>0.0</td>\n",
              "      <td>0.0</td>\n",
              "      <td>1</td>\n",
              "      <td>0</td>\n",
              "      <td>6</td>\n",
              "      <td>5</td>\n",
              "      <td>1</td>\n",
              "      <td>27</td>\n",
              "      <td>12</td>\n",
              "      <td>139</td>\n",
              "      <td>6380792</td>\n",
              "      <td>2.18</td>\n",
              "      <td>9773</td>\n",
              "      <td>4</td>\n",
              "    </tr>\n",
              "    <tr>\n",
              "      <th>...</th>\n",
              "      <td>...</td>\n",
              "      <td>...</td>\n",
              "      <td>...</td>\n",
              "      <td>...</td>\n",
              "      <td>...</td>\n",
              "      <td>...</td>\n",
              "      <td>...</td>\n",
              "      <td>...</td>\n",
              "      <td>...</td>\n",
              "      <td>...</td>\n",
              "      <td>...</td>\n",
              "      <td>...</td>\n",
              "      <td>...</td>\n",
              "      <td>...</td>\n",
              "      <td>...</td>\n",
              "      <td>...</td>\n",
              "      <td>...</td>\n",
              "      <td>...</td>\n",
              "      <td>...</td>\n",
              "      <td>...</td>\n",
              "      <td>...</td>\n",
              "      <td>...</td>\n",
              "      <td>...</td>\n",
              "      <td>...</td>\n",
              "      <td>...</td>\n",
              "    </tr>\n",
              "    <tr>\n",
              "      <th>7603</th>\n",
              "      <td>2015</td>\n",
              "      <td>12</td>\n",
              "      <td>31</td>\n",
              "      <td>1</td>\n",
              "      <td>1</td>\n",
              "      <td>0</td>\n",
              "      <td>1.0</td>\n",
              "      <td>1</td>\n",
              "      <td>0</td>\n",
              "      <td>0.0</td>\n",
              "      <td>1.0</td>\n",
              "      <td>0.0</td>\n",
              "      <td>0.0</td>\n",
              "      <td>1</td>\n",
              "      <td>0</td>\n",
              "      <td>0</td>\n",
              "      <td>8</td>\n",
              "      <td>1</td>\n",
              "      <td>27</td>\n",
              "      <td>21</td>\n",
              "      <td>72</td>\n",
              "      <td>6288287</td>\n",
              "      <td>1.14</td>\n",
              "      <td>11961</td>\n",
              "      <td>4</td>\n",
              "    </tr>\n",
              "    <tr>\n",
              "      <th>7604</th>\n",
              "      <td>2015</td>\n",
              "      <td>12</td>\n",
              "      <td>31</td>\n",
              "      <td>1</td>\n",
              "      <td>1</td>\n",
              "      <td>0</td>\n",
              "      <td>1.0</td>\n",
              "      <td>1</td>\n",
              "      <td>0</td>\n",
              "      <td>0.0</td>\n",
              "      <td>1.0</td>\n",
              "      <td>0.0</td>\n",
              "      <td>0.0</td>\n",
              "      <td>1</td>\n",
              "      <td>0</td>\n",
              "      <td>0</td>\n",
              "      <td>8</td>\n",
              "      <td>1</td>\n",
              "      <td>27</td>\n",
              "      <td>21</td>\n",
              "      <td>109</td>\n",
              "      <td>10293526</td>\n",
              "      <td>1.06</td>\n",
              "      <td>11961</td>\n",
              "      <td>2</td>\n",
              "    </tr>\n",
              "    <tr>\n",
              "      <th>7605</th>\n",
              "      <td>2015</td>\n",
              "      <td>12</td>\n",
              "      <td>31</td>\n",
              "      <td>1</td>\n",
              "      <td>1</td>\n",
              "      <td>0</td>\n",
              "      <td>1.0</td>\n",
              "      <td>1</td>\n",
              "      <td>0</td>\n",
              "      <td>0.0</td>\n",
              "      <td>1.0</td>\n",
              "      <td>0.0</td>\n",
              "      <td>0.0</td>\n",
              "      <td>1</td>\n",
              "      <td>0</td>\n",
              "      <td>0</td>\n",
              "      <td>8</td>\n",
              "      <td>1</td>\n",
              "      <td>27</td>\n",
              "      <td>21</td>\n",
              "      <td>42</td>\n",
              "      <td>5456986</td>\n",
              "      <td>0.77</td>\n",
              "      <td>11961</td>\n",
              "      <td>0</td>\n",
              "    </tr>\n",
              "    <tr>\n",
              "      <th>7606</th>\n",
              "      <td>2015</td>\n",
              "      <td>12</td>\n",
              "      <td>31</td>\n",
              "      <td>1</td>\n",
              "      <td>1</td>\n",
              "      <td>0</td>\n",
              "      <td>1.0</td>\n",
              "      <td>1</td>\n",
              "      <td>0</td>\n",
              "      <td>0.0</td>\n",
              "      <td>1.0</td>\n",
              "      <td>0.0</td>\n",
              "      <td>0.0</td>\n",
              "      <td>1</td>\n",
              "      <td>0</td>\n",
              "      <td>0</td>\n",
              "      <td>8</td>\n",
              "      <td>1</td>\n",
              "      <td>27</td>\n",
              "      <td>21</td>\n",
              "      <td>18</td>\n",
              "      <td>6100840</td>\n",
              "      <td>0.30</td>\n",
              "      <td>11961</td>\n",
              "      <td>5</td>\n",
              "    </tr>\n",
              "    <tr>\n",
              "      <th>7607</th>\n",
              "      <td>2015</td>\n",
              "      <td>12</td>\n",
              "      <td>31</td>\n",
              "      <td>1</td>\n",
              "      <td>1</td>\n",
              "      <td>0</td>\n",
              "      <td>1.0</td>\n",
              "      <td>1</td>\n",
              "      <td>0</td>\n",
              "      <td>0.0</td>\n",
              "      <td>1.0</td>\n",
              "      <td>0.0</td>\n",
              "      <td>0.0</td>\n",
              "      <td>1</td>\n",
              "      <td>0</td>\n",
              "      <td>0</td>\n",
              "      <td>8</td>\n",
              "      <td>1</td>\n",
              "      <td>27</td>\n",
              "      <td>21</td>\n",
              "      <td>18</td>\n",
              "      <td>6435462</td>\n",
              "      <td>0.28</td>\n",
              "      <td>11961</td>\n",
              "      <td>5</td>\n",
              "    </tr>\n",
              "  </tbody>\n",
              "</table>\n",
              "<p>7608 rows × 25 columns</p>\n",
              "</div>"
            ],
            "text/plain": [
              "      iyear  imonth  iday  ...  suicides/100k pop  gdp_per_capita ($)  generation\n",
              "0      2009       5    28  ...               4.09                9773           1\n",
              "1      2009       5    28  ...               3.34                9773           1\n",
              "2      2009       5    28  ...               3.13                9773           0\n",
              "3      2009       5    28  ...               3.01                9773           2\n",
              "4      2009       5    28  ...               2.18                9773           4\n",
              "...     ...     ...   ...  ...                ...                 ...         ...\n",
              "7603   2015      12    31  ...               1.14               11961           4\n",
              "7604   2015      12    31  ...               1.06               11961           2\n",
              "7605   2015      12    31  ...               0.77               11961           0\n",
              "7606   2015      12    31  ...               0.30               11961           5\n",
              "7607   2015      12    31  ...               0.28               11961           5\n",
              "\n",
              "[7608 rows x 25 columns]"
            ]
          },
          "metadata": {
            "tags": []
          },
          "execution_count": 61
        }
      ]
    },
    {
      "cell_type": "code",
      "metadata": {
        "id": "qv-Z9RLCzqHq",
        "colab_type": "code",
        "outputId": "a1902b45-b623-4e5b-f7a2-30ad3bb051f1",
        "colab": {
          "base_uri": "https://localhost:8080/",
          "height": 518
        }
      },
      "source": [
        "gtd_suicide.drop_duplicates(inplace=True)\n",
        "gtd_suicide.info()"
      ],
      "execution_count": 62,
      "outputs": [
        {
          "output_type": "stream",
          "text": [
            "<class 'pandas.core.frame.DataFrame'>\n",
            "Int64Index: 7080 entries, 0 to 7607\n",
            "Data columns (total 25 columns):\n",
            "iyear                 7080 non-null int64\n",
            "imonth                7080 non-null int64\n",
            "iday                  7080 non-null int64\n",
            "crit1                 7080 non-null int64\n",
            "crit2                 7080 non-null int64\n",
            "crit3                 7080 non-null int64\n",
            "doubtterr             7080 non-null float64\n",
            "success               7080 non-null int64\n",
            "suicide               7080 non-null int64\n",
            "claimed               7080 non-null float64\n",
            "nkillter              7080 non-null float64\n",
            "nwound                7080 non-null float64\n",
            "nwoundte              7080 non-null float64\n",
            "country_txt           7080 non-null int64\n",
            "region_txt            7080 non-null int64\n",
            "attacktype1_txt       7080 non-null int64\n",
            "targtype1_txt         7080 non-null int64\n",
            "natlty1_txt           7080 non-null int64\n",
            "gname                 7080 non-null int64\n",
            "weapsubtype1_txt      7080 non-null int64\n",
            "suicides_no           7080 non-null int64\n",
            "population            7080 non-null int64\n",
            "suicides/100k pop     7080 non-null float64\n",
            "gdp_per_capita ($)    7080 non-null int64\n",
            "generation            7080 non-null int64\n",
            "dtypes: float64(6), int64(19)\n",
            "memory usage: 1.4 MB\n"
          ],
          "name": "stdout"
        }
      ]
    },
    {
      "cell_type": "code",
      "metadata": {
        "id": "C7FPWqIZD_BJ",
        "colab_type": "code",
        "colab": {}
      },
      "source": [
        "gtd_suicide_train = gtd_suicide[(gtd_suicide['iyear'] >= 2001) & (gtd_suicide['iyear'] <=2015)].drop('gname',axis=1)\n",
        "gtd_suicide_test = gtd_suicide[gtd_suicide['iyear'] == 2016].drop('gname',axis=1)\n",
        "gtd_suicide_train_label = gtd_suicide[(gtd_suicide['iyear'] >= 2001) & (gtd_suicide['iyear'] <=2015)]['gname']\n",
        "gtd_suicide_test_label = gtd_suicide[gtd_suicide['iyear'] == 2016]['gname']"
      ],
      "execution_count": 0,
      "outputs": []
    },
    {
      "cell_type": "code",
      "metadata": {
        "id": "ckRO1ZjqDMn-",
        "colab_type": "code",
        "outputId": "7b593157-2a17-4d56-e6eb-b8efb1de61d5",
        "colab": {
          "base_uri": "https://localhost:8080/",
          "height": 322
        }
      },
      "source": [
        "gt_suicide_train_result_AB,gt_suicide_test_result_AB=AB(gtd_suicide_train,gtd_suicide_train_label,gtd_suicide_test,gtd_suicide_test_label)"
      ],
      "execution_count": 86,
      "outputs": [
        {
          "output_type": "error",
          "ename": "ValueError",
          "evalue": "ignored",
          "traceback": [
            "\u001b[0;31m---------------------------------------------------------------------------\u001b[0m",
            "\u001b[0;31mValueError\u001b[0m                                Traceback (most recent call last)",
            "\u001b[0;32m<ipython-input-86-db84e6cbaf62>\u001b[0m in \u001b[0;36m<module>\u001b[0;34m()\u001b[0m\n\u001b[0;32m----> 1\u001b[0;31m \u001b[0mgt_suicide_train_result_AB\u001b[0m\u001b[0;34m,\u001b[0m\u001b[0mgt_suicide_test_result_AB\u001b[0m\u001b[0;34m=\u001b[0m\u001b[0mAB\u001b[0m\u001b[0;34m(\u001b[0m\u001b[0mgtd_suicide_train\u001b[0m\u001b[0;34m,\u001b[0m\u001b[0mgtd_suicide_train_label\u001b[0m\u001b[0;34m,\u001b[0m\u001b[0mgtd_suicide_test\u001b[0m\u001b[0;34m,\u001b[0m\u001b[0mgtd_suicide_test_label\u001b[0m\u001b[0;34m)\u001b[0m\u001b[0;34m\u001b[0m\u001b[0;34m\u001b[0m\u001b[0m\n\u001b[0m",
            "\u001b[0;32m<ipython-input-29-2448402e14ed>\u001b[0m in \u001b[0;36mAB\u001b[0;34m(x_train, y_train, x_test, y_test)\u001b[0m\n\u001b[1;32m     12\u001b[0m     \u001b[0mgrid_Search\u001b[0m \u001b[0;34m=\u001b[0m \u001b[0mGridSearchCV\u001b[0m\u001b[0;34m(\u001b[0m\u001b[0mclassifier\u001b[0m\u001b[0;34m,\u001b[0m \u001b[0mparam_grid\u001b[0m\u001b[0;34m=\u001b[0m\u001b[0mparam_grid\u001b[0m\u001b[0;34m)\u001b[0m\u001b[0;34m\u001b[0m\u001b[0;34m\u001b[0m\u001b[0m\n\u001b[1;32m     13\u001b[0m     \u001b[0mkk\u001b[0m \u001b[0;34m=\u001b[0m \u001b[0mgrid_Search\u001b[0m\u001b[0;34m.\u001b[0m\u001b[0mfit\u001b[0m\u001b[0;34m(\u001b[0m\u001b[0mx_train\u001b[0m\u001b[0;34m,\u001b[0m \u001b[0my_train\u001b[0m\u001b[0;34m)\u001b[0m\u001b[0;34m\u001b[0m\u001b[0;34m\u001b[0m\u001b[0m\n\u001b[0;32m---> 14\u001b[0;31m     \u001b[0mtestAccAB\u001b[0m\u001b[0;34m,\u001b[0m\u001b[0mtrainAccAB\u001b[0m\u001b[0;34m=\u001b[0m \u001b[0mFmeasure\u001b[0m\u001b[0;34m(\u001b[0m\u001b[0mkk\u001b[0m\u001b[0;34m,\u001b[0m\u001b[0mx_train\u001b[0m\u001b[0;34m,\u001b[0m\u001b[0my_train\u001b[0m\u001b[0;34m,\u001b[0m\u001b[0mx_test\u001b[0m\u001b[0;34m,\u001b[0m\u001b[0my_test\u001b[0m\u001b[0;34m)\u001b[0m\u001b[0;34m\u001b[0m\u001b[0;34m\u001b[0m\u001b[0m\n\u001b[0m\u001b[1;32m     15\u001b[0m     \u001b[0;32mreturn\u001b[0m \u001b[0mtestAccAB\u001b[0m\u001b[0;34m,\u001b[0m\u001b[0mtrainAccAB\u001b[0m\u001b[0;34m\u001b[0m\u001b[0;34m\u001b[0m\u001b[0m\n",
            "\u001b[0;32m<ipython-input-17-dced9000fe62>\u001b[0m in \u001b[0;36mFmeasure\u001b[0;34m(estimator, x_train, y_train, x_test, y_test)\u001b[0m\n\u001b[1;32m      2\u001b[0m \u001b[0;32mdef\u001b[0m \u001b[0mFmeasure\u001b[0m\u001b[0;34m(\u001b[0m\u001b[0mestimator\u001b[0m\u001b[0;34m,\u001b[0m\u001b[0mx_train\u001b[0m\u001b[0;34m,\u001b[0m\u001b[0my_train\u001b[0m\u001b[0;34m,\u001b[0m\u001b[0mx_test\u001b[0m\u001b[0;34m,\u001b[0m\u001b[0my_test\u001b[0m\u001b[0;34m)\u001b[0m\u001b[0;34m:\u001b[0m\u001b[0;34m\u001b[0m\u001b[0;34m\u001b[0m\u001b[0m\n\u001b[1;32m      3\u001b[0m     \u001b[0my_pred_train\u001b[0m \u001b[0;34m=\u001b[0m \u001b[0mestimator\u001b[0m\u001b[0;34m.\u001b[0m\u001b[0mpredict\u001b[0m\u001b[0;34m(\u001b[0m\u001b[0mx_train\u001b[0m\u001b[0;34m)\u001b[0m\u001b[0;34m\u001b[0m\u001b[0;34m\u001b[0m\u001b[0m\n\u001b[0;32m----> 4\u001b[0;31m     \u001b[0my_pred_test\u001b[0m \u001b[0;34m=\u001b[0m \u001b[0mestimator\u001b[0m\u001b[0;34m.\u001b[0m\u001b[0mpredict\u001b[0m\u001b[0;34m(\u001b[0m\u001b[0mx_test\u001b[0m\u001b[0;34m)\u001b[0m\u001b[0;34m\u001b[0m\u001b[0;34m\u001b[0m\u001b[0m\n\u001b[0m\u001b[1;32m      5\u001b[0m     \u001b[0maccuracyF_Train\u001b[0m\u001b[0;34m=\u001b[0m\u001b[0maccuracy_score\u001b[0m\u001b[0;34m(\u001b[0m\u001b[0my_train\u001b[0m\u001b[0;34m,\u001b[0m \u001b[0my_pred_train\u001b[0m\u001b[0;34m)\u001b[0m\u001b[0;34m\u001b[0m\u001b[0;34m\u001b[0m\u001b[0m\n\u001b[1;32m      6\u001b[0m     \u001b[0maccuracyF_Test\u001b[0m\u001b[0;34m=\u001b[0m \u001b[0maccuracy_score\u001b[0m\u001b[0;34m(\u001b[0m\u001b[0my_test\u001b[0m\u001b[0;34m,\u001b[0m \u001b[0my_pred_test\u001b[0m\u001b[0;34m)\u001b[0m\u001b[0;34m\u001b[0m\u001b[0;34m\u001b[0m\u001b[0m\n",
            "\u001b[0;32m/usr/local/lib/python3.6/dist-packages/sklearn/utils/metaestimators.py\u001b[0m in \u001b[0;36m<lambda>\u001b[0;34m(*args, **kwargs)\u001b[0m\n\u001b[1;32m    114\u001b[0m \u001b[0;34m\u001b[0m\u001b[0m\n\u001b[1;32m    115\u001b[0m         \u001b[0;31m# lambda, but not partial, allows help() to work with update_wrapper\u001b[0m\u001b[0;34m\u001b[0m\u001b[0;34m\u001b[0m\u001b[0;34m\u001b[0m\u001b[0m\n\u001b[0;32m--> 116\u001b[0;31m         \u001b[0mout\u001b[0m \u001b[0;34m=\u001b[0m \u001b[0;32mlambda\u001b[0m \u001b[0;34m*\u001b[0m\u001b[0margs\u001b[0m\u001b[0;34m,\u001b[0m \u001b[0;34m**\u001b[0m\u001b[0mkwargs\u001b[0m\u001b[0;34m:\u001b[0m \u001b[0mself\u001b[0m\u001b[0;34m.\u001b[0m\u001b[0mfn\u001b[0m\u001b[0;34m(\u001b[0m\u001b[0mobj\u001b[0m\u001b[0;34m,\u001b[0m \u001b[0;34m*\u001b[0m\u001b[0margs\u001b[0m\u001b[0;34m,\u001b[0m \u001b[0;34m**\u001b[0m\u001b[0mkwargs\u001b[0m\u001b[0;34m)\u001b[0m\u001b[0;34m\u001b[0m\u001b[0;34m\u001b[0m\u001b[0m\n\u001b[0m\u001b[1;32m    117\u001b[0m         \u001b[0;31m# update the docstring of the returned function\u001b[0m\u001b[0;34m\u001b[0m\u001b[0;34m\u001b[0m\u001b[0;34m\u001b[0m\u001b[0m\n\u001b[1;32m    118\u001b[0m         \u001b[0mupdate_wrapper\u001b[0m\u001b[0;34m(\u001b[0m\u001b[0mout\u001b[0m\u001b[0;34m,\u001b[0m \u001b[0mself\u001b[0m\u001b[0;34m.\u001b[0m\u001b[0mfn\u001b[0m\u001b[0;34m)\u001b[0m\u001b[0;34m\u001b[0m\u001b[0;34m\u001b[0m\u001b[0m\n",
            "\u001b[0;32m/usr/local/lib/python3.6/dist-packages/sklearn/model_selection/_search.py\u001b[0m in \u001b[0;36mpredict\u001b[0;34m(self, X)\u001b[0m\n\u001b[1;32m    455\u001b[0m         \"\"\"\n\u001b[1;32m    456\u001b[0m         \u001b[0mself\u001b[0m\u001b[0;34m.\u001b[0m\u001b[0m_check_is_fitted\u001b[0m\u001b[0;34m(\u001b[0m\u001b[0;34m'predict'\u001b[0m\u001b[0;34m)\u001b[0m\u001b[0;34m\u001b[0m\u001b[0;34m\u001b[0m\u001b[0m\n\u001b[0;32m--> 457\u001b[0;31m         \u001b[0;32mreturn\u001b[0m \u001b[0mself\u001b[0m\u001b[0;34m.\u001b[0m\u001b[0mbest_estimator_\u001b[0m\u001b[0;34m.\u001b[0m\u001b[0mpredict\u001b[0m\u001b[0;34m(\u001b[0m\u001b[0mX\u001b[0m\u001b[0;34m)\u001b[0m\u001b[0;34m\u001b[0m\u001b[0;34m\u001b[0m\u001b[0m\n\u001b[0m\u001b[1;32m    458\u001b[0m \u001b[0;34m\u001b[0m\u001b[0m\n\u001b[1;32m    459\u001b[0m     \u001b[0;34m@\u001b[0m\u001b[0mif_delegate_has_method\u001b[0m\u001b[0;34m(\u001b[0m\u001b[0mdelegate\u001b[0m\u001b[0;34m=\u001b[0m\u001b[0;34m(\u001b[0m\u001b[0;34m'best_estimator_'\u001b[0m\u001b[0;34m,\u001b[0m \u001b[0;34m'estimator'\u001b[0m\u001b[0;34m)\u001b[0m\u001b[0;34m)\u001b[0m\u001b[0;34m\u001b[0m\u001b[0;34m\u001b[0m\u001b[0m\n",
            "\u001b[0;32m/usr/local/lib/python3.6/dist-packages/sklearn/ensemble/weight_boosting.py\u001b[0m in \u001b[0;36mpredict\u001b[0;34m(self, X)\u001b[0m\n\u001b[1;32m    613\u001b[0m             \u001b[0mThe\u001b[0m \u001b[0mpredicted\u001b[0m \u001b[0mclasses\u001b[0m\u001b[0;34m.\u001b[0m\u001b[0;34m\u001b[0m\u001b[0;34m\u001b[0m\u001b[0m\n\u001b[1;32m    614\u001b[0m         \"\"\"\n\u001b[0;32m--> 615\u001b[0;31m         \u001b[0mX\u001b[0m \u001b[0;34m=\u001b[0m \u001b[0mself\u001b[0m\u001b[0;34m.\u001b[0m\u001b[0m_validate_data\u001b[0m\u001b[0;34m(\u001b[0m\u001b[0mX\u001b[0m\u001b[0;34m)\u001b[0m\u001b[0;34m\u001b[0m\u001b[0;34m\u001b[0m\u001b[0m\n\u001b[0m\u001b[1;32m    616\u001b[0m \u001b[0;34m\u001b[0m\u001b[0m\n\u001b[1;32m    617\u001b[0m         \u001b[0mpred\u001b[0m \u001b[0;34m=\u001b[0m \u001b[0mself\u001b[0m\u001b[0;34m.\u001b[0m\u001b[0mdecision_function\u001b[0m\u001b[0;34m(\u001b[0m\u001b[0mX\u001b[0m\u001b[0;34m)\u001b[0m\u001b[0;34m\u001b[0m\u001b[0;34m\u001b[0m\u001b[0m\n",
            "\u001b[0;32m/usr/local/lib/python3.6/dist-packages/sklearn/ensemble/weight_boosting.py\u001b[0m in \u001b[0;36m_validate_data\u001b[0;34m(self, X, y)\u001b[0m\n\u001b[1;32m     80\u001b[0m                               \u001b[0mensure_2d\u001b[0m\u001b[0;34m=\u001b[0m\u001b[0;32mFalse\u001b[0m\u001b[0;34m,\u001b[0m\u001b[0;34m\u001b[0m\u001b[0;34m\u001b[0m\u001b[0m\n\u001b[1;32m     81\u001b[0m                               \u001b[0mallow_nd\u001b[0m\u001b[0;34m=\u001b[0m\u001b[0;32mTrue\u001b[0m\u001b[0;34m,\u001b[0m\u001b[0;34m\u001b[0m\u001b[0;34m\u001b[0m\u001b[0m\n\u001b[0;32m---> 82\u001b[0;31m                               dtype=None)\n\u001b[0m\u001b[1;32m     83\u001b[0m         \u001b[0;32melse\u001b[0m\u001b[0;34m:\u001b[0m\u001b[0;34m\u001b[0m\u001b[0;34m\u001b[0m\u001b[0m\n\u001b[1;32m     84\u001b[0m             ret = check_X_y(X, y,\n",
            "\u001b[0;32m/usr/local/lib/python3.6/dist-packages/sklearn/utils/validation.py\u001b[0m in \u001b[0;36mcheck_array\u001b[0;34m(array, accept_sparse, accept_large_sparse, dtype, order, copy, force_all_finite, ensure_2d, allow_nd, ensure_min_samples, ensure_min_features, warn_on_dtype, estimator)\u001b[0m\n\u001b[1;32m    548\u001b[0m                              \u001b[0;34m\" minimum of %d is required%s.\"\u001b[0m\u001b[0;34m\u001b[0m\u001b[0;34m\u001b[0m\u001b[0m\n\u001b[1;32m    549\u001b[0m                              % (n_samples, array.shape, ensure_min_samples,\n\u001b[0;32m--> 550\u001b[0;31m                                 context))\n\u001b[0m\u001b[1;32m    551\u001b[0m \u001b[0;34m\u001b[0m\u001b[0m\n\u001b[1;32m    552\u001b[0m     \u001b[0;32mif\u001b[0m \u001b[0mensure_min_features\u001b[0m \u001b[0;34m>\u001b[0m \u001b[0;36m0\u001b[0m \u001b[0;32mand\u001b[0m \u001b[0marray\u001b[0m\u001b[0;34m.\u001b[0m\u001b[0mndim\u001b[0m \u001b[0;34m==\u001b[0m \u001b[0;36m2\u001b[0m\u001b[0;34m:\u001b[0m\u001b[0;34m\u001b[0m\u001b[0;34m\u001b[0m\u001b[0m\n",
            "\u001b[0;31mValueError\u001b[0m: Found array with 0 sample(s) (shape=(0, 24)) while a minimum of 1 is required."
          ]
        }
      ]
    },
    {
      "cell_type": "code",
      "metadata": {
        "id": "i99Ok4f2Ug8P",
        "colab_type": "code",
        "colab": {}
      },
      "source": [
        "gt_suicide_train_result,gt_suicide_test_result=LR(gtd_suicide_train,gtd_suicide_train_label,gtd_suicide_test,gtd_suicide_test_label)"
      ],
      "execution_count": 0,
      "outputs": []
    }
  ]
}