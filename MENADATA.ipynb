{
  "nbformat": 4,
  "nbformat_minor": 0,
  "metadata": {
    "colab": {
      "name": "MENA.ipynb",
      "provenance": [],
      "machine_shape": "hm",
      "include_colab_link": true
    },
    "kernelspec": {
      "name": "python3",
      "display_name": "Python 3"
    },
    "accelerator": "GPU"
  },
  "cells": [
    {
      "cell_type": "markdown",
      "metadata": {
        "id": "view-in-github",
        "colab_type": "text"
      },
      "source": [
        "<a href=\"https://colab.research.google.com/github/aghapygad336/MENA/blob/master/MENADATA.ipynb\" target=\"_parent\"><img src=\"https://colab.research.google.com/assets/colab-badge.svg\" alt=\"Open In Colab\"/></a>"
      ]
    },
    {
      "cell_type": "code",
      "metadata": {
        "id": "ZgzAsqJ_Kp_1",
        "colab_type": "code",
        "outputId": "2054dbb3-85a7-4220-9130-79bbbc53a298",
        "colab": {
          "base_uri": "https://localhost:8080/",
          "height": 35
        }
      },
      "source": [
        "from google.colab import drive\n",
        "drive.mount('/content/drive')"
      ],
      "execution_count": 364,
      "outputs": [
        {
          "output_type": "stream",
          "text": [
            "Drive already mounted at /content/drive; to attempt to forcibly remount, call drive.mount(\"/content/drive\", force_remount=True).\n"
          ],
          "name": "stdout"
        }
      ]
    },
    {
      "cell_type": "code",
      "metadata": {
        "id": "p9WyMb6Iarpu",
        "colab_type": "code",
        "colab": {}
      },
      "source": [
        "import pandas as pd\n",
        "import numpy as np\n",
        "dataG = pd.read_csv('/content/drive/My Drive/MENA/golbal.csv',encoding = \"ISO-8859-1\", engine = 'python', usecols=[1,2,3,8,10,19,20,21,22,26,27,29,35,41,71,84,100,101,103,58])\n",
        "dataLabels=np.array(dataG.columns)\n",
        "\n",
        "MENA=['Algeria', 'Bahrain', 'Djibouti',' Egypt', 'Iran', 'Iraq',  'Jordan','Kuwait', 'Lebanon',' Libya', 'Malta',' Morocco', 'Oman',' Qatar', 'Saudi Arabia', 'Syria', 'Tunisia', 'United Arab Emirates', 'Palestine', 'Yemen','Ethiopia' ,' Sudan' ]\n",
        "data2015 = pd.read_csv('/content/drive/My Drive/MENA/2015.csv',encoding = \"ISO-8859-1\", engine = 'python')\n",
        "dataLabels2015=np.array(data2015.columns)\n",
        "data2016 = pd.read_csv('/content/drive/My Drive/MENA/2016.csv',encoding = \"ISO-8859-1\", engine = 'python')\n",
        "dataLabels2016=np.array(data2016.columns)\n",
        "data2017 = pd.read_csv('/content/drive/My Drive/MENA/2017.csv',encoding = \"ISO-8859-1\", engine = 'python')\n",
        "dataLabels2017=np.array(data2017.columns)\n",
        "data20152016=data2016.append(data2015)\n",
        "yearsData=data20152016.append(data2017)\n",
        "data=yearsData.append(dataG)\n"
      ],
      "execution_count": 0,
      "outputs": []
    },
    {
      "cell_type": "code",
      "metadata": {
        "id": "n_hk4G9DCRUg",
        "colab_type": "code",
        "colab": {
          "base_uri": "https://localhost:8080/",
          "height": 248
        },
        "outputId": "430df935-1a12-491c-efa5-7c932051e1da"
      },
      "source": [
        "data.columns"
      ],
      "execution_count": 373,
      "outputs": [
        {
          "output_type": "execute_result",
          "data": {
            "text/plain": [
              "Index(['Country', 'Dystopia Residual', 'Dystopia.Residual',\n",
              "       'Economy (GDP per Capita)', 'Economy..GDP.per.Capita.', 'Family',\n",
              "       'Freedom', 'Generosity', 'Happiness Rank', 'Happiness Score',\n",
              "       'Happiness.Rank', 'Happiness.Score', 'Health (Life Expectancy)',\n",
              "       'Health..Life.Expectancy.', 'Lower Confidence Interval', 'Region',\n",
              "       'Standard Error', 'Trust (Government Corruption)',\n",
              "       'Trust..Government.Corruption.', 'Upper Confidence Interval',\n",
              "       'Whisker.high', 'Whisker.low', 'attacktype1_txt', 'claimed',\n",
              "       'country_txt', 'crit1', 'crit2', 'crit3', 'doubtterr', 'gname', 'iday',\n",
              "       'imonth', 'iyear', 'natlty1_txt', 'nkillter', 'nwound', 'nwoundte',\n",
              "       'region_txt', 'success', 'suicide', 'targtype1_txt',\n",
              "       'weapsubtype1_txt'],\n",
              "      dtype='object')"
            ]
          },
          "metadata": {
            "tags": []
          },
          "execution_count": 373
        }
      ]
    },
    {
      "cell_type": "code",
      "metadata": {
        "id": "DSe3zC8_AdSl",
        "colab_type": "code",
        "colab": {
          "base_uri": "https://localhost:8080/",
          "height": 52
        },
        "outputId": "f4bc1fda-f78b-4b2b-9644-85fb0532bbaf"
      },
      "source": [
        "data.shape\n",
        "data_C=data.shape[1]\n",
        "data_R=data.shape[0]\n",
        "print(data_C)\n",
        "print(data_R)"
      ],
      "execution_count": 369,
      "outputs": [
        {
          "output_type": "stream",
          "text": [
            "42\n",
            "182161\n"
          ],
          "name": "stdout"
        }
      ]
    },
    {
      "cell_type": "code",
      "metadata": {
        "id": "ffyoGUrxru9q",
        "colab_type": "code",
        "colab": {}
      },
      "source": [
        "data_C=data.shape[1]\n",
        "data_R=data.shape[0]\n",
        "for c in range(0,data_C+1):\n",
        "    Region_nums=[]\n",
        "    Region_nums=data[dataLabels[c]].unique()\n",
        "    Region_nums={Region_nums[i]: i for i in range(len(Region_nums))}\n",
        "    Regions = Region_nums\n",
        "    data[dataLabels[c]].replace(Regions, inplace=True)\n"
      ],
      "execution_count": 0,
      "outputs": []
    },
    {
      "cell_type": "markdown",
      "metadata": {
        "id": "XB4I-wjVspyr",
        "colab_type": "text"
      },
      "source": [
        "For computational reasons, the best subset cannot be applied for any large n due to the 2n complexity. Forward Stepwise begins with a model containing no predictors, and then adds predictors to the model, one at the time. At each step, the variable that gives the greatest additional improvement to the fit is added to the model."
      ]
    },
    {
      "cell_type": "code",
      "metadata": {
        "id": "opxySKcbmd39",
        "colab_type": "code",
        "colab": {}
      },
      "source": [
        "def fit_linear_reg(X,Y):\n",
        "    #Fit linear regression model and return RSS and R squared values\n",
        "    model_k = linear_model.LinearRegression(fit_intercept = True)\n",
        "    model_k.fit(X,Y)\n",
        "    RSS = mean_squared_error(Y,model_k.predict(X)) * len(Y)\n",
        "    R_squared = model_k.score(X,Y)\n",
        "    return RSS, R_squared"
      ],
      "execution_count": 0,
      "outputs": []
    },
    {
      "cell_type": "code",
      "metadata": {
        "id": "QohcY4pGCEWV",
        "colab_type": "code",
        "colab": {}
      },
      "source": [
        "#Importing tqdm for the progress bar\n",
        "from tqdm import tnrange, tqdm_notebook\n",
        "import itertools\n",
        "from sklearn import linear_model\n",
        "from sklearn.metrics import mean_squared_error\n",
        "\n",
        "#Initialization variables\n",
        "X =data\n",
        "X = X[['Country', 'Dystopia Residual', 'Dystopia.Residual',\n",
        "       'Economy (GDP per Capita)', 'Economy..GDP.per.Capita.', 'Family',\n",
        "       'Freedom', 'Generosity', 'Happiness Rank', 'Happiness Score',\n",
        "       'Happiness.Rank', 'Happiness.Score', 'Health (Life Expectancy)',\n",
        "       'Health..Life.Expectancy.', 'Lower Confidence Interval', 'Region',\n",
        "       'Standard Error', 'Trust (Government Corruption)',\n",
        "       'Trust..Government.Corruption.', 'Upper Confidence Interval',\n",
        "       'Whisker.high', 'Whisker.low', 'attacktype1_txt', 'claimed',\n",
        "       'country_txt', 'crit1', 'crit2', 'crit3', 'doubtterr', 'gname', 'iday',\n",
        "       'imonth', 'iyear', 'natlty1_txt', 'nkillter', 'nwound', 'nwoundte',\n",
        "       'region_txt', 'success', 'suicide', 'targtype1_txt',\n",
        "       'weapsubtype1_txt']]\n",
        "Y = X.pop('gname')\n",
        "k = 10\n",
        "remaining_features = list(X.columns.values)\n",
        "features = []\n",
        "RSS_list, R_squared_list = [np.inf], [np.inf] #Due to 1 indexing of the loop...\n",
        "features_list = dict()\n",
        "\n",
        "for i in range(1,k+1):\n",
        "    best_RSS = np.inf\n",
        "    \n",
        "    for combo in itertools.combinations(remaining_features,1):\n",
        "\n",
        "            RSS = fit_linear_reg(X[list(combo) + features],Y)   #Store temp result \n",
        "\n",
        "            if RSS[0] < best_RSS:\n",
        "                best_RSS = RSS[0]\n",
        "                best_R_squared = RSS[1] \n",
        "                best_feature = combo[0]\n",
        "\n",
        "    #Updating variables for next loop\n",
        "    features.append(best_feature)\n",
        "    remaining_features.remove(best_feature)\n",
        "    \n",
        "    #Saving values for plotting\n",
        "    RSS_list.append(best_RSS)\n",
        "    R_squared_list.append(best_R_squared)\n",
        "    features_list[i] = features.copy()"
      ],
      "execution_count": 0,
      "outputs": []
    },
    {
      "cell_type": "code",
      "metadata": {
        "id": "rHoh0CSBlXeM",
        "colab_type": "code",
        "colab": {}
      },
      "source": [
        "df1 = pd.concat([pd.DataFrame({'features':features_list}),pd.DataFrame({'RSS':RSS_list, 'R_squared': R_squared_list})], axis=1, join='inner')\n",
        "df1['numb_features'] = df1.index"
      ],
      "execution_count": 0,
      "outputs": []
    }
  ]
}