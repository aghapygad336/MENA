{
  "nbformat": 4,
  "nbformat_minor": 0,
  "metadata": {
    "colab": {
      "name": "MENA.ipynb",
      "provenance": [],
      "machine_shape": "hm",
      "include_colab_link": true
    },
    "kernelspec": {
      "name": "python3",
      "display_name": "Python 3"
    },
    "accelerator": "GPU"
  },
  "cells": [
    {
      "cell_type": "markdown",
      "metadata": {
        "id": "view-in-github",
        "colab_type": "text"
      },
      "source": [
        "<a href=\"https://colab.research.google.com/github/aghapygad336/MENA/blob/master/MENA.ipynb\" target=\"_parent\"><img src=\"https://colab.research.google.com/assets/colab-badge.svg\" alt=\"Open In Colab\"/></a>"
      ]
    },
    {
      "cell_type": "code",
      "metadata": {
        "id": "ZgzAsqJ_Kp_1",
        "colab_type": "code",
        "outputId": "c6eb5d45-df80-48da-9d0c-b6d4cd938176",
        "colab": {
          "base_uri": "https://localhost:8080/",
          "height": 121
        }
      },
      "source": [
        "from google.colab import drive\n",
        "drive.mount('/content/drive')"
      ],
      "execution_count": 2,
      "outputs": [
        {
          "output_type": "stream",
          "text": [
            "Go to this URL in a browser: https://accounts.google.com/o/oauth2/auth?client_id=947318989803-6bn6qk8qdgf4n4g3pfee6491hc0brc4i.apps.googleusercontent.com&redirect_uri=urn%3aietf%3awg%3aoauth%3a2.0%3aoob&response_type=code&scope=email%20https%3a%2f%2fwww.googleapis.com%2fauth%2fdocs.test%20https%3a%2f%2fwww.googleapis.com%2fauth%2fdrive%20https%3a%2f%2fwww.googleapis.com%2fauth%2fdrive.photos.readonly%20https%3a%2f%2fwww.googleapis.com%2fauth%2fpeopleapi.readonly\n",
            "\n",
            "Enter your authorization code:\n",
            "··········\n",
            "Mounted at /content/drive\n"
          ],
          "name": "stdout"
        }
      ]
    },
    {
      "cell_type": "code",
      "metadata": {
        "id": "p9WyMb6Iarpu",
        "colab_type": "code",
        "outputId": "9e94baf6-382b-4d45-932d-f4171e1051f0",
        "colab": {
          "base_uri": "https://localhost:8080/",
          "height": 84
        }
      },
      "source": [
        "import pandas as pd\n",
        "import numpy as np\n",
        "data = pd.read_csv('/content/drive/My Drive/MENA/golbal.csv',encoding = \"ISO-8859-1\", engine = 'python', usecols=[1,2,3,8,10,19,20,21,22,26,27,29,35,41,71,84,100,101,103,135])\n",
        "print(data.shape)\n",
        "dataLabels=np.array(data.columns)\n",
        "print(dataLabels)\n",
        "MENA=[]\n",
        "MENA=['Algeria', 'Bahrain', 'Djibouti',' Egypt', 'Iran', 'Iraq', 'Israel', 'Jordan','Kuwait', 'Lebanon',' Libya', 'Malta',' Morocco', 'Oman',' Qatar', 'Saudi Arabia', 'Syria', 'Tunisia', 'United Arab Emirates', 'Palestine', 'Yemen','Ethiopia' ,' Sudan' ]"
      ],
      "execution_count": 3,
      "outputs": [
        {
          "output_type": "stream",
          "text": [
            "(181691, 19)\n",
            "['iyear' 'imonth' 'iday' 'country_txt' 'region_txt' 'crit1' 'crit2'\n",
            " 'crit3' 'doubtterr' 'success' 'suicide' 'attacktype1_txt' 'targtype1_txt'\n",
            " 'natlty1_txt' 'claimed' 'weapsubtype1_txt' 'nkillter' 'nwound' 'nwoundte']\n"
          ],
          "name": "stdout"
        }
      ]
    },
    {
      "cell_type": "code",
      "metadata": {
        "id": "lpLE9k93cujH",
        "colab_type": "code",
        "colab": {
          "base_uri": "https://localhost:8080/",
          "height": 403
        },
        "outputId": "d6b95866-70d4-49aa-d65f-5b79ebbb3852"
      },
      "source": [
        "MENA"
      ],
      "execution_count": 4,
      "outputs": [
        {
          "output_type": "execute_result",
          "data": {
            "text/plain": [
              "['Algeria',\n",
              " 'Bahrain',\n",
              " 'Djibouti',\n",
              " ' Egypt',\n",
              " 'Iran',\n",
              " 'Iraq',\n",
              " 'Israel',\n",
              " 'Jordan',\n",
              " 'Kuwait',\n",
              " 'Lebanon',\n",
              " ' Libya',\n",
              " 'Malta',\n",
              " ' Morocco',\n",
              " 'Oman',\n",
              " ' Qatar',\n",
              " 'Saudi Arabia',\n",
              " 'Syria',\n",
              " 'Tunisia',\n",
              " 'United Arab Emirates',\n",
              " 'Palestine',\n",
              " 'Yemen',\n",
              " 'Ethiopia',\n",
              " ' Sudan']"
            ]
          },
          "metadata": {
            "tags": []
          },
          "execution_count": 4
        }
      ]
    },
    {
      "cell_type": "code",
      "metadata": {
        "id": "FBDtP2BcctED",
        "colab_type": "code",
        "colab": {}
      },
      "source": [
        "data_C=data.shape[1]\n",
        "data_R=data.shape[0]\n"
      ],
      "execution_count": 0,
      "outputs": []
    },
    {
      "cell_type": "code",
      "metadata": {
        "id": "ij53oTzcPvmO",
        "colab_type": "code",
        "colab": {}
      },
      "source": [
        "data_C=data.shape[1]\n",
        "data_R=data.shape[0]\n",
        "for c in range(data_C):\n",
        "    Region_nums=[]\n",
        "    Region_nums=data[dataLabels[c]].unique()\n",
        "    Region_nums={Region_nums[i]: i for i in range(len(Region_nums))}\n",
        "    Regions = Region_nums\n",
        "    data[dataLabels[c]].replace(Regions, inplace=True)\n"
      ],
      "execution_count": 0,
      "outputs": []
    },
    {
      "cell_type": "code",
      "metadata": {
        "id": "dnVhHV4vkWrf",
        "colab_type": "code",
        "outputId": "0222a717-9215-4b15-a8ad-e342ff81557b",
        "colab": {
          "base_uri": "https://localhost:8080/",
          "height": 604
        }
      },
      "source": [
        "\n",
        "import pandas\n",
        "import numpy\n",
        "from sklearn.feature_selection import SelectKBest\n",
        "from sklearn.feature_selection import chi2\n",
        "array = data.values\n",
        "xx = array[:,0:18]\n",
        "yy= array[:,18]\n",
        "xx_column=['iyear' 'imonth' 'iday' 'country_txt' 'region_txt' 'crit1' 'crit2'\n",
        " 'crit3' 'doubtterr' 'success' 'suicide' 'attacktype1_txt' 'targtype1_txt'\n",
        " 'natlty1_txt' 'claimed' 'weapsubtype1_txt' 'nkillter' 'nwound' 'nwoundte']\n",
        "# feature extraction\n",
        "test = SelectKBest(score_func=chi2, k=4)\n",
        "fit = test.fit(xx, yy)\n",
        "dfscores = pd.DataFrame(fit.scores_)\n",
        "dfcolumns = pd.DataFrame(xx_column)\n",
        "print(dfscores)\n",
        "\n",
        "dfscores.plot.bar() \n"
      ],
      "execution_count": 42,
      "outputs": [
        {
          "output_type": "stream",
          "text": [
            "                0\n",
            "0   642602.948651\n",
            "1      105.121091\n",
            "2      288.957130\n",
            "3   298275.348694\n",
            "4    47003.741530\n",
            "5       23.784926\n",
            "6      237.793264\n",
            "7     1110.756340\n",
            "8     6562.451545\n",
            "9     1158.716982\n",
            "10    2904.087193\n",
            "11    1902.933442\n",
            "12    1335.757283\n",
            "13  231662.075665\n",
            "14   64946.935135\n",
            "15   87038.152053\n",
            "16  211208.395369\n",
            "17  165262.281963\n"
          ],
          "name": "stdout"
        },
        {
          "output_type": "execute_result",
          "data": {
            "text/plain": [
              "<matplotlib.axes._subplots.AxesSubplot at 0x7fc390323710>"
            ]
          },
          "metadata": {
            "tags": []
          },
          "execution_count": 42
        },
        {
          "output_type": "display_data",
          "data": {
            "image/png": "[encoded data removed]",
            "text/plain": [
              "<Figure size 432x288 with 1 Axes>"
            ]
          },
          "metadata": {
            "tags": []
          }
        }
      ]
    }
  ]
}