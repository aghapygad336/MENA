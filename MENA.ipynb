{
  "nbformat": 4,
  "nbformat_minor": 0,
  "metadata": {
    "colab": {
      "name": "MENA.ipynb",
      "provenance": [],
      "machine_shape": "hm",
      "include_colab_link": true
    },
    "kernelspec": {
      "name": "python3",
      "display_name": "Python 3"
    },
    "accelerator": "GPU"
  },
  "cells": [
    {
      "cell_type": "markdown",
      "metadata": {
        "id": "view-in-github",
        "colab_type": "text"
      },
      "source": [
        "<a href=\"https://colab.research.google.com/github/aghapygad336/MENA/blob/master/MENA.ipynb\" target=\"_parent\"><img src=\"https://colab.research.google.com/assets/colab-badge.svg\" alt=\"Open In Colab\"/></a>"
      ]
    },
    {
      "cell_type": "code",
      "metadata": {
        "id": "ZgzAsqJ_Kp_1",
        "colab_type": "code",
        "outputId": "cbd30cfc-2152-4752-b118-0a6faef02c5c",
        "colab": {
          "base_uri": "https://localhost:8080/",
          "height": 35
        }
      },
      "source": [
        "from google.colab import drive\n",
        "drive.mount('/content/drive')"
      ],
      "execution_count": 5,
      "outputs": [
        {
          "output_type": "stream",
          "text": [
            "Drive already mounted at /content/drive; to attempt to forcibly remount, call drive.mount(\"/content/drive\", force_remount=True).\n"
          ],
          "name": "stdout"
        }
      ]
    },
    {
      "cell_type": "code",
      "metadata": {
        "id": "p9WyMb6Iarpu",
        "colab_type": "code",
        "outputId": "5114bf4e-bfa2-4de8-9480-876c44eda3a6",
        "colab": {
          "base_uri": "https://localhost:8080/",
          "height": 88
        }
      },
      "source": [
        "import pandas as pd\n",
        "import numpy as np\n",
        "data = pd.read_csv('/content/drive/My Drive/MENA/golbal.csv',encoding = \"ISO-8859-1\", engine = 'python', usecols=[1,2,3,8,10,19,20,21,22,26,27,29,35,41,71,84,100,101,103,135])\n",
        "print(data.shape)\n",
        "dataLabels=np.array(data.columns)\n",
        "print(dataLabels)\n",
        "MENA=[]\n",
        "MENA=['Algeria', 'Bahrain', 'Djibouti',' Egypt', 'Iran', 'Iraq', 'Israel', 'Jordan','Kuwait', 'Lebanon',' Libya', 'Malta',' Morocco', 'Oman',' Qatar', 'Saudi Arabia', 'Syria', 'Tunisia', 'United Arab Emirates', 'Palestine', 'Yemen','Ethiopia' ,' Sudan' ]"
      ],
      "execution_count": 6,
      "outputs": [
        {
          "output_type": "stream",
          "text": [
            "(181691, 19)\n",
            "['iyear' 'imonth' 'iday' 'country_txt' 'region_txt' 'crit1' 'crit2'\n",
            " 'crit3' 'doubtterr' 'success' 'suicide' 'attacktype1_txt' 'targtype1_txt'\n",
            " 'natlty1_txt' 'claimed' 'weapsubtype1_txt' 'nkillter' 'nwound' 'nwoundte']\n"
          ],
          "name": "stdout"
        }
      ]
    },
    {
      "cell_type": "code",
      "metadata": {
        "id": "FBDtP2BcctED",
        "colab_type": "code",
        "colab": {}
      },
      "source": [
        "data_C=data.shape[1]\n",
        "data_R=data.shape[0]\n"
      ],
      "execution_count": 0,
      "outputs": []
    },
    {
      "cell_type": "code",
      "metadata": {
        "id": "ij53oTzcPvmO",
        "colab_type": "code",
        "colab": {}
      },
      "source": [
        "data_C=data.shape[1]\n",
        "data_R=data.shape[0]\n",
        "for c in range(data_C):\n",
        "    Region_nums=[]\n",
        "    Region_nums=data[dataLabels[c]].unique()\n",
        "    Region_nums={Region_nums[i]: i for i in range(len(Region_nums))}\n",
        "    Regions = Region_nums\n",
        "    data[dataLabels[c]].replace(Regions, inplace=True)\n"
      ],
      "execution_count": 0,
      "outputs": []
    },
    {
      "cell_type": "code",
      "metadata": {
        "id": "SmN5rw6w04e2",
        "colab_type": "code",
        "colab": {
          "base_uri": "https://localhost:8080/",
          "height": 283
        },
        "outputId": "2d27009a-3bed-47da-8f44-cfc3c273cfb6"
      },
      "source": [
        "import pandas as pd\n",
        "from sklearn.ensemble import RandomForestClassifier\n",
        "\n",
        "X =data\n",
        "X = X[['iyear', 'imonth' ,'iday', 'country_txt' ,'region_txt' ,'crit1' ,'crit2',\n",
        " 'crit3', 'doubtterr', 'success', 'suicide' ,'attacktype1_txt' ,'targtype1_txt',\n",
        " 'natlty1_txt', 'claimed' ,'weapsubtype1_txt' ,'nkillter', 'nwound' ,'nwoundte']].dropna()\n",
        "y = X.pop('country_txt')\n",
        "\n",
        "model = RandomForestClassifier()\n",
        "model.fit(X, y)\n",
        "\n",
        "(pd.Series(model.feature_importances_, index=X.columns).nlargest(19).plot(kind='barh')) "
      ],
      "execution_count": 12,
      "outputs": [
        {
          "output_type": "execute_result",
          "data": {
            "text/plain": [
              "<matplotlib.axes._subplots.AxesSubplot at 0x7f666d1e6358>"
            ]
          },
          "metadata": {
            "tags": []
          },
          "execution_count": 12
        },
        {
          "output_type": "display_data",
          "data": {
            "image/png": "[encoded data removed]",
            "text/plain": [
              "<Figure size 432x288 with 1 Axes>"
            ]
          },
          "metadata": {
            "tags": []
          }
        }
      ]
    },
    {
      "cell_type": "code",
      "metadata": {
        "id": "QohcY4pGCEWV",
        "colab_type": "code",
        "colab": {}
      },
      "source": [
        "#Importing tqdm for the progress bar\n",
        "from tqdm import tnrange, tqdm_notebook\n",
        "import itertools\n",
        "from sklearn import linear_model\n",
        "from sklearn.metrics import mean_squared_error\n",
        "\n",
        "#Initialization variables\n",
        "X =data\n",
        "X = X[['iyear', 'imonth' ,'iday', 'country_txt' ,'region_txt' ,'crit1' ,'crit2',\n",
        " 'crit3', 'doubtterr', 'success', 'suicide' ,'attacktype1_txt' ,'targtype1_txt',\n",
        " 'natlty1_txt', 'claimed' ,'weapsubtype1_txt' ,'nkillter', 'nwound' ,'nwoundte']].dropna()\n",
        "Y = X.pop('country_txt')\n",
        "k = 10\n",
        "remaining_features = list(X.columns.values)\n",
        "features = []\n",
        "RSS_list, R_squared_list = [np.inf], [np.inf] #Due to 1 indexing of the loop...\n",
        "features_list = dict()\n",
        "\n",
        "for i in range(1,k+1):\n",
        "    best_RSS = np.inf\n",
        "    \n",
        "    for combo in itertools.combinations(remaining_features,1):\n",
        "\n",
        "            RSS = fit_linear_reg(X[list(combo) + features],Y)   #Store temp result \n",
        "\n",
        "            if RSS[0] < best_RSS:\n",
        "                best_RSS = RSS[0]\n",
        "                best_R_squared = RSS[1] \n",
        "                best_feature = combo[0]\n",
        "\n",
        "    #Updating variables for next loop\n",
        "    features.append(best_feature)\n",
        "    remaining_features.remove(best_feature)\n",
        "    \n",
        "    #Saving values for plotting\n",
        "    RSS_list.append(best_RSS)\n",
        "    R_squared_list.append(best_R_squared)\n",
        "    features_list[i] = features.copy()"
      ],
      "execution_count": 0,
      "outputs": []
    },
    {
      "cell_type": "code",
      "metadata": {
        "id": "rHoh0CSBlXeM",
        "colab_type": "code",
        "colab": {
          "base_uri": "https://localhost:8080/",
          "height": 1000
        },
        "outputId": "b1fb5dd3-140c-4c04-b093-6012a2211976"
      },
      "source": [
        "print('Forward stepwise subset selection')\n",
        "print('Number of features |', 'Features |', 'RSS')\n",
        "display([(i,features_list[i], round(RSS_list[i])) for i in range(1,11)])\n"
      ],
      "execution_count": 38,
      "outputs": [
        {
          "output_type": "stream",
          "text": [
            "Forward stepwise subset selection\n",
            "Number of features | Features | RSS\n"
          ],
          "name": "stdout"
        },
        {
          "output_type": "display_data",
          "data": {
            "text/plain": [
              "[(1, ['natlty1_txt'], 223595394.0),\n",
              " (2, ['natlty1_txt', 'iyear'], 212145147.0),\n",
              " (3, ['natlty1_txt', 'iyear', 'region_txt'], 211191002.0),\n",
              " (4, ['natlty1_txt', 'iyear', 'region_txt', 'suicide'], 210733531.0),\n",
              " (5,\n",
              "  ['natlty1_txt', 'iyear', 'region_txt', 'suicide', 'claimed'],\n",
              "  210254862.0),\n",
              " (6,\n",
              "  ['natlty1_txt',\n",
              "   'iyear',\n",
              "   'region_txt',\n",
              "   'suicide',\n",
              "   'claimed',\n",
              "   'weapsubtype1_txt'],\n",
              "  209997011.0),\n",
              " (7,\n",
              "  ['natlty1_txt',\n",
              "   'iyear',\n",
              "   'region_txt',\n",
              "   'suicide',\n",
              "   'claimed',\n",
              "   'weapsubtype1_txt',\n",
              "   'nwoundte'],\n",
              "  209766416.0),\n",
              " (8,\n",
              "  ['natlty1_txt',\n",
              "   'iyear',\n",
              "   'region_txt',\n",
              "   'suicide',\n",
              "   'claimed',\n",
              "   'weapsubtype1_txt',\n",
              "   'nwoundte',\n",
              "   'doubtterr'],\n",
              "  209556180.0),\n",
              " (9,\n",
              "  ['natlty1_txt',\n",
              "   'iyear',\n",
              "   'region_txt',\n",
              "   'suicide',\n",
              "   'claimed',\n",
              "   'weapsubtype1_txt',\n",
              "   'nwoundte',\n",
              "   'doubtterr',\n",
              "   'nwound'],\n",
              "  209341701.0),\n",
              " (10,\n",
              "  ['natlty1_txt',\n",
              "   'iyear',\n",
              "   'region_txt',\n",
              "   'suicide',\n",
              "   'claimed',\n",
              "   'weapsubtype1_txt',\n",
              "   'nwoundte',\n",
              "   'doubtterr',\n",
              "   'nwound',\n",
              "   'crit1'],\n",
              "  209191148.0)]"
            ]
          },
          "metadata": {
            "tags": []
          }
        }
      ]
    }
  ]
}