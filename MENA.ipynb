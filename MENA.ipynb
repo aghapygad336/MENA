{
  "nbformat": 4,
  "nbformat_minor": 0,
  "metadata": {
    "colab": {
      "name": "MENA.ipynb",
      "provenance": [],
      "toc_visible": true,
      "machine_shape": "hm",
      "include_colab_link": true
    },
    "kernelspec": {
      "name": "python3",
      "display_name": "Python 3"
    }
  },
  "cells": [
    {
      "cell_type": "markdown",
      "metadata": {
        "id": "view-in-github",
        "colab_type": "text"
      },
      "source": [
        "<a href=\"https://colab.research.google.com/github/aghapygad336/MENA/blob/master/MENA.ipynb\" target=\"_parent\"><img src=\"https://colab.research.google.com/assets/colab-badge.svg\" alt=\"Open In Colab\"/></a>"
      ]
    },
    {
      "cell_type": "code",
      "metadata": {
        "id": "p9WyMb6Iarpu",
        "colab_type": "code",
        "colab": {}
      },
      "source": [
        "import pandas as pd\n",
        "import numpy as np\n",
        "data = pd.read_csv('/content/TDS2017.csv',encoding = \"ISO-8859-1\", engine = 'python')\n",
        "type(data)\n",
        "dataLabels=np.array(data.columns)\n"
      ],
      "execution_count": 0,
      "outputs": []
    },
    {
      "cell_type": "code",
      "metadata": {
        "id": "HGPiWBYdlAJF",
        "colab_type": "code",
        "colab": {
          "base_uri": "https://localhost:8080/",
          "height": 34
        },
        "outputId": "da2b4798-0a81-4335-fb98-c730d0a221d8"
      },
      "source": [
        "data.shape"
      ],
      "execution_count": 10,
      "outputs": [
        {
          "output_type": "execute_result",
          "data": {
            "text/plain": [
              "(21146, 135)"
            ]
          },
          "metadata": {
            "tags": []
          },
          "execution_count": 10
        }
      ]
    },
    {
      "cell_type": "code",
      "metadata": {
        "id": "FBDtP2BcctED",
        "colab_type": "code",
        "colab": {}
      },
      "source": [
        "data_C=data.shape[1]\n",
        "data_R=data.shape[0]\n"
      ],
      "execution_count": 0,
      "outputs": []
    },
    {
      "cell_type": "code",
      "metadata": {
        "id": "ij53oTzcPvmO",
        "colab_type": "code",
        "colab": {}
      },
      "source": [
        "data_C=data.shape[1]\n",
        "data_R=data.shape[0]\n",
        "for c in range(data_C):\n",
        "    Region_nums=[]\n",
        "    Region_nums=data[dataLabels[c]].unique()\n",
        "    Region_nums={Region_nums[i]: i for i in range(len(Region_nums))}\n",
        "    Regions = Region_nums\n",
        "    data[dataLabels[c]].replace(Regions, inplace=True)\n"
      ],
      "execution_count": 0,
      "outputs": []
    },
    {
      "cell_type": "code",
      "metadata": {
        "id": "dnVhHV4vkWrf",
        "colab_type": "code",
        "colab": {
          "base_uri": "https://localhost:8080/",
          "height": 317
        },
        "outputId": "7ba0bebe-8c58-4e16-fd44-83d32710f814"
      },
      "source": [
        "import numpy\n",
        "from pandas import read_csv\n",
        "from sklearn.decomposition import PCA\n",
        "\n",
        "preprocessedData = np.asarray(data)\n",
        "preprocessedData.shape\n",
        "pca = PCA(n_components=10)\n",
        "fit = pca.fit(preprocessedData)\n",
        "print(\"Explained Variance: %s\" % fit.explained_variance_ratio_)\n",
        "import matplotlib.pyplot as plt\n",
        "import numpy as np\n",
        "x=fit.components_\n",
        "plt.plot(x, x)\n",
        "plt.show()\n"
      ],
      "execution_count": 20,
      "outputs": [
        {
          "output_type": "stream",
          "text": [
            "Explained Variance: [8.50666646e-01 9.64573906e-02 3.31893103e-02 1.17762150e-02\n",
            " 4.21488511e-03 1.12379747e-03 8.97213078e-04 8.32653162e-04\n",
            " 3.68162311e-04 2.65798663e-04]\n"
          ],
          "name": "stdout"
        },
        {
          "output_type": "display_data",
          "data": {
            "image/png": "[encoded data removed]",
            "text/plain": [
              "<Figure size 432x288 with 1 Axes>"
            ]
          },
          "metadata": {
            "tags": []
          }
        }
      ]
    }
  ]
}