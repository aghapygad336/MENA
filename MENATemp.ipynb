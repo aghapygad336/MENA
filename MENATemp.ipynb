{
  "nbformat": 4,
  "nbformat_minor": 0,
  "metadata": {
    "colab": {
      "name": "MENA.ipynb",
      "provenance": [],
      "machine_shape": "hm",
      "include_colab_link": true
    },
    "kernelspec": {
      "name": "python3",
      "display_name": "Python 3"
    },
    "accelerator": "GPU"
  },
  "cells": [
    {
      "cell_type": "markdown",
      "metadata": {
        "id": "view-in-github",
        "colab_type": "text"
      },
      "source": [
        "<a href=\"https://colab.research.google.com/github/aghapygad336/MENA/blob/master/MENATemp.ipynb\" target=\"_parent\"><img src=\"https://colab.research.google.com/assets/colab-badge.svg\" alt=\"Open In Colab\"/></a>"
      ]
    },
    {
      "cell_type": "code",
      "metadata": {
        "id": "ZgzAsqJ_Kp_1",
        "colab_type": "code",
        "outputId": "feed592c-7517-4665-c616-10356f7f2bb3",
        "colab": {
          "base_uri": "https://localhost:8080/",
          "height": 34
        }
      },
      "source": [
        "from google.colab import drive\n",
        "drive.mount('/content/drive')"
      ],
      "execution_count": 387,
      "outputs": [
        {
          "output_type": "stream",
          "text": [
            "Drive already mounted at /content/drive; to attempt to forcibly remount, call drive.mount(\"/content/drive\", force_remount=True).\n"
          ],
          "name": "stdout"
        }
      ]
    },
    {
      "cell_type": "code",
      "metadata": {
        "id": "p9WyMb6Iarpu",
        "colab_type": "code",
        "colab": {}
      },
      "source": [
        "import pandas as pd\n",
        "import numpy as np\n",
        "dataG = pd.read_csv('/content/drive/My Drive/MENA/golbal.csv',encoding = \"ISO-8859-1\", engine = 'python', usecols=[1,2,3,8,10,19,20,21,22,26,27,29,35,41,71,84,100,101,103,58])\n",
        "dataLabels=np.array(dataG.columns)\n",
        "\n",
        "MENA=['Algeria', 'Bahrain', 'Djibouti',' Egypt', 'Iran', 'Iraq',  'Jordan','Kuwait', 'Lebanon',' Libya', 'Malta',' Morocco', 'Oman',' Qatar', 'Saudi Arabia', 'Syria', 'Tunisia', 'United Arab Emirates', 'Palestine', 'Yemen','Ethiopia' ,' Sudan' ]\n",
        "data2015 = pd.read_csv('/content/drive/My Drive/MENA/2015.csv',encoding = \"ISO-8859-1\", engine = 'python')\n",
        "dataLabels2015=np.array(data2015.columns)\n",
        "data2016 = pd.read_csv('/content/drive/My Drive/MENA/2016.csv',encoding = \"ISO-8859-1\", engine = 'python')\n",
        "dataLabels2016=np.array(data2016.columns)\n",
        "data2017 = pd.read_csv('/content/drive/My Drive/MENA/2017.csv',encoding = \"ISO-8859-1\", engine = 'python')\n",
        "\n",
        "finaldf = pd.concat([dataG, data2015, data2016,data2017], axis=1).sort_index()\n",
        "\n"
      ],
      "execution_count": 0,
      "outputs": []
    },
    {
      "cell_type": "code",
      "metadata": {
        "id": "n_hk4G9DCRUg",
        "colab_type": "code",
        "colab": {
          "base_uri": "https://localhost:8080/",
          "height": 289
        },
        "outputId": "2be59587-5e6e-4586-c0fa-4de9e0bf2813"
      },
      "source": [
        "finaldf.columns"
      ],
      "execution_count": 438,
      "outputs": [
        {
          "output_type": "execute_result",
          "data": {
            "text/plain": [
              "Index(['iyear', 'imonth', 'iday', 'country_txt', 'region_txt', 'crit1',\n",
              "       'crit2', 'crit3', 'doubtterr', 'success', 'suicide', 'attacktype1_txt',\n",
              "       'targtype1_txt', 'natlty1_txt', 'gname', 'claimed', 'weapsubtype1_txt',\n",
              "       'nkillter', 'nwound', 'nwoundte', 'Country', 'Region', 'Happiness Rank',\n",
              "       'Happiness Score', 'Standard Error', 'Economy (GDP per Capita)',\n",
              "       'Family', 'Health (Life Expectancy)', 'Freedom',\n",
              "       'Trust (Government Corruption)', 'Generosity', 'Dystopia Residual',\n",
              "       'Country', 'Region', 'Happiness Rank', 'Happiness Score',\n",
              "       'Lower Confidence Interval', 'Upper Confidence Interval',\n",
              "       'Economy (GDP per Capita)', 'Family', 'Health (Life Expectancy)',\n",
              "       'Freedom', 'Trust (Government Corruption)', 'Generosity',\n",
              "       'Dystopia Residual', 'Country', 'Happiness.Rank', 'Happiness.Score',\n",
              "       'Whisker.high', 'Whisker.low', 'Economy..GDP.per.Capita.', 'Family',\n",
              "       'Health..Life.Expectancy.', 'Freedom', 'Generosity',\n",
              "       'Trust..Government.Corruption.', 'Dystopia.Residual'],\n",
              "      dtype='object')"
            ]
          },
          "metadata": {
            "tags": []
          },
          "execution_count": 438
        }
      ]
    },
    {
      "cell_type": "code",
      "metadata": {
        "id": "DSe3zC8_AdSl",
        "colab_type": "code",
        "colab": {
          "base_uri": "https://localhost:8080/",
          "height": 51
        },
        "outputId": "64160e20-ae55-46a4-c708-3cbb6f64a4e5"
      },
      "source": [
        "finaldf.shape\n",
        "data_C=finaldf.shape[1]\n",
        "data_R=finaldf.shape[0]\n",
        "print(data_C)\n",
        "print(data_R)\n"
      ],
      "execution_count": 444,
      "outputs": [
        {
          "output_type": "stream",
          "text": [
            "57\n",
            "181691\n"
          ],
          "name": "stdout"
        }
      ]
    },
    {
      "cell_type": "markdown",
      "metadata": {
        "id": "SQNyW1isM6cu",
        "colab_type": "text"
      },
      "source": [
        "Encoding for feature selection"
      ]
    },
    {
      "cell_type": "code",
      "metadata": {
        "id": "ffyoGUrxru9q",
        "colab_type": "code",
        "colab": {
          "base_uri": "https://localhost:8080/",
          "height": 435
        },
        "outputId": "4bf05b78-1702-4dbd-da62-862600685c64"
      },
      "source": [
        "dataLabels=np.array(finaldf.columns)\n",
        "\n",
        "for c in range(data_C):\n",
        "    Region_nums=[]\n",
        "    Region_nums=finaldf[dataLabels[c]].unique()\n",
        "    Region_nums={Region_nums[i]: i for i in range(len(Region_nums))}\n",
        "    Regions = Region_nums\n",
        "    finaldf[dataLabels[c]].replace(Regions, inplace=True)\n"
      ],
      "execution_count": 448,
      "outputs": [
        {
          "output_type": "stream",
          "text": [
            "/usr/local/lib/python3.6/dist-packages/pandas/core/generic.py:6786: SettingWithCopyWarning: \n",
            "A value is trying to be set on a copy of a slice from a DataFrame\n",
            "\n",
            "See the caveats in the documentation: http://pandas.pydata.org/pandas-docs/stable/user_guide/indexing.html#returning-a-view-versus-a-copy\n",
            "  self._update_inplace(new_data)\n"
          ],
          "name": "stderr"
        },
        {
          "output_type": "error",
          "ename": "AttributeError",
          "evalue": "ignored",
          "traceback": [
            "\u001b[0;31m---------------------------------------------------------------------------\u001b[0m",
            "\u001b[0;31mAttributeError\u001b[0m                            Traceback (most recent call last)",
            "\u001b[0;32m<ipython-input-448-ceb5a07122bb>\u001b[0m in \u001b[0;36m<module>\u001b[0;34m()\u001b[0m\n\u001b[1;32m      3\u001b[0m \u001b[0;32mfor\u001b[0m \u001b[0mc\u001b[0m \u001b[0;32min\u001b[0m \u001b[0mrange\u001b[0m\u001b[0;34m(\u001b[0m\u001b[0mdata_C\u001b[0m\u001b[0;34m)\u001b[0m\u001b[0;34m:\u001b[0m\u001b[0;34m\u001b[0m\u001b[0;34m\u001b[0m\u001b[0m\n\u001b[1;32m      4\u001b[0m     \u001b[0mRegion_nums\u001b[0m\u001b[0;34m=\u001b[0m\u001b[0;34m[\u001b[0m\u001b[0;34m]\u001b[0m\u001b[0;34m\u001b[0m\u001b[0;34m\u001b[0m\u001b[0m\n\u001b[0;32m----> 5\u001b[0;31m     \u001b[0mRegion_nums\u001b[0m\u001b[0;34m=\u001b[0m\u001b[0mfinaldf\u001b[0m\u001b[0;34m[\u001b[0m\u001b[0mdataLabels\u001b[0m\u001b[0;34m[\u001b[0m\u001b[0mc\u001b[0m\u001b[0;34m]\u001b[0m\u001b[0;34m]\u001b[0m\u001b[0;34m.\u001b[0m\u001b[0munique\u001b[0m\u001b[0;34m(\u001b[0m\u001b[0;34m)\u001b[0m\u001b[0;34m\u001b[0m\u001b[0;34m\u001b[0m\u001b[0m\n\u001b[0m\u001b[1;32m      6\u001b[0m     \u001b[0mRegion_nums\u001b[0m\u001b[0;34m=\u001b[0m\u001b[0;34m{\u001b[0m\u001b[0mRegion_nums\u001b[0m\u001b[0;34m[\u001b[0m\u001b[0mi\u001b[0m\u001b[0;34m]\u001b[0m\u001b[0;34m:\u001b[0m \u001b[0mi\u001b[0m \u001b[0;32mfor\u001b[0m \u001b[0mi\u001b[0m \u001b[0;32min\u001b[0m \u001b[0mrange\u001b[0m\u001b[0;34m(\u001b[0m\u001b[0mlen\u001b[0m\u001b[0;34m(\u001b[0m\u001b[0mRegion_nums\u001b[0m\u001b[0;34m)\u001b[0m\u001b[0;34m)\u001b[0m\u001b[0;34m}\u001b[0m\u001b[0;34m\u001b[0m\u001b[0;34m\u001b[0m\u001b[0m\n\u001b[1;32m      7\u001b[0m     \u001b[0mRegions\u001b[0m \u001b[0;34m=\u001b[0m \u001b[0mRegion_nums\u001b[0m\u001b[0;34m\u001b[0m\u001b[0;34m\u001b[0m\u001b[0m\n",
            "\u001b[0;32m/usr/local/lib/python3.6/dist-packages/pandas/core/generic.py\u001b[0m in \u001b[0;36m__getattr__\u001b[0;34m(self, name)\u001b[0m\n\u001b[1;32m   5177\u001b[0m             \u001b[0;32mif\u001b[0m \u001b[0mself\u001b[0m\u001b[0;34m.\u001b[0m\u001b[0m_info_axis\u001b[0m\u001b[0;34m.\u001b[0m\u001b[0m_can_hold_identifiers_and_holds_name\u001b[0m\u001b[0;34m(\u001b[0m\u001b[0mname\u001b[0m\u001b[0;34m)\u001b[0m\u001b[0;34m:\u001b[0m\u001b[0;34m\u001b[0m\u001b[0;34m\u001b[0m\u001b[0m\n\u001b[1;32m   5178\u001b[0m                 \u001b[0;32mreturn\u001b[0m \u001b[0mself\u001b[0m\u001b[0;34m[\u001b[0m\u001b[0mname\u001b[0m\u001b[0;34m]\u001b[0m\u001b[0;34m\u001b[0m\u001b[0;34m\u001b[0m\u001b[0m\n\u001b[0;32m-> 5179\u001b[0;31m             \u001b[0;32mreturn\u001b[0m \u001b[0mobject\u001b[0m\u001b[0;34m.\u001b[0m\u001b[0m__getattribute__\u001b[0m\u001b[0;34m(\u001b[0m\u001b[0mself\u001b[0m\u001b[0;34m,\u001b[0m \u001b[0mname\u001b[0m\u001b[0;34m)\u001b[0m\u001b[0;34m\u001b[0m\u001b[0;34m\u001b[0m\u001b[0m\n\u001b[0m\u001b[1;32m   5180\u001b[0m \u001b[0;34m\u001b[0m\u001b[0m\n\u001b[1;32m   5181\u001b[0m     \u001b[0;32mdef\u001b[0m \u001b[0m__setattr__\u001b[0m\u001b[0;34m(\u001b[0m\u001b[0mself\u001b[0m\u001b[0;34m,\u001b[0m \u001b[0mname\u001b[0m\u001b[0;34m,\u001b[0m \u001b[0mvalue\u001b[0m\u001b[0;34m)\u001b[0m\u001b[0;34m:\u001b[0m\u001b[0;34m\u001b[0m\u001b[0;34m\u001b[0m\u001b[0m\n",
            "\u001b[0;31mAttributeError\u001b[0m: 'DataFrame' object has no attribute 'unique'"
          ]
        }
      ]
    },
    {
      "cell_type": "markdown",
      "metadata": {
        "id": "XB4I-wjVspyr",
        "colab_type": "text"
      },
      "source": [
        "For computational reasons, the best subset cannot be applied for any large n due to the 2n complexity. Forward Stepwise begins with a model containing no predictors, and then adds predictors to the model, one at the time. At each step, the variable that gives the greatest additional improvement to the fit is added to the model."
      ]
    },
    {
      "cell_type": "code",
      "metadata": {
        "id": "opxySKcbmd39",
        "colab_type": "code",
        "colab": {}
      },
      "source": [
        "def fit_linear_reg(X,Y):\n",
        "    #Fit linear regression model and return RSS and R squared values\n",
        "    model_k = linear_model.LinearRegression(fit_intercept = True)\n",
        "    model_k.fit(X,Y)\n",
        "    RSS = mean_squared_error(Y,model_k.predict(X)) * len(Y)\n",
        "    R_squared = model_k.score(X,Y)\n",
        "    return RSS, R_squared"
      ],
      "execution_count": 0,
      "outputs": []
    },
    {
      "cell_type": "code",
      "metadata": {
        "id": "QohcY4pGCEWV",
        "colab_type": "code",
        "colab": {}
      },
      "source": [
        "#Importing tqdm for the progress bar\n",
        "from tqdm import tnrange, tqdm_notebook\n",
        "import itertools\n",
        "from sklearn import linear_model\n",
        "from sklearn.metrics import mean_squared_error\n",
        "\n",
        "#Initialization variables\n",
        "X =dataG\n",
        "X = X[['iyear', 'imonth', 'iday', 'country_txt', 'region_txt', 'crit1',\n",
        "       'crit2', 'crit3', 'doubtterr', 'success', 'suicide', 'attacktype1_txt',\n",
        "       'targtype1_txt', 'natlty1_txt', 'gname', 'claimed', 'weapsubtype1_txt',\n",
        "       'nkillter', 'nwound', 'nwoundte', 'Country', 'Region', 'Happiness Rank',\n",
        "       'Happiness Score', 'Standard Error', 'Economy (GDP per Capita)',\n",
        "       'Family', 'Health (Life Expectancy)', 'Freedom',\n",
        "       'Trust (Government Corruption)', 'Generosity', 'Dystopia Residual',\n",
        "       'Country', 'Region', 'Happiness Rank', 'Happiness Score',\n",
        "       'Lower Confidence Interval', 'Upper Confidence Interval',\n",
        "       'Economy (GDP per Capita)', 'Family', 'Health (Life Expectancy)',\n",
        "       'Freedom', 'Trust (Government Corruption)', 'Generosity',\n",
        "       'Dystopia Residual', 'Country', 'Happiness.Rank', 'Happiness.Score',\n",
        "       'Whisker.high', 'Whisker.low', 'Economy..GDP.per.Capita.', 'Family',\n",
        "       'Health..Life.Expectancy.', 'Freedom', 'Generosity',\n",
        "       'Trust..Government.Corruption.', 'Dystopia.Residual']].dropna()\n",
        "Y = X.pop('gname')\n",
        "k = 20\n",
        "remaining_features = list(X.columns.values)\n",
        "features = []\n",
        "RSS_list, R_squared_list = [np.inf], [np.inf] #Due to 1 indexing of the loop...\n",
        "features_list = dict()\n",
        "\n",
        "for i in range(1,k+1):\n",
        "    best_RSS = np.inf\n",
        "    \n",
        "    for combo in itertools.combinations(remaining_features,1):\n",
        "\n",
        "            RSS = fit_linear_reg(X[list(combo) + features],Y)   #Store temp result \n",
        "\n",
        "            if RSS[0] < best_RSS:\n",
        "                best_RSS = RSS[0]\n",
        "                best_R_squared = RSS[1] \n",
        "                best_feature = combo[0]\n",
        "\n",
        "    #Updating variables for next loop\n",
        "    features.append(best_feature)\n",
        "    remaining_features.remove(best_feature)\n",
        "    \n",
        "    #Saving values for plotting\n",
        "    RSS_list.append(best_RSS)\n",
        "    R_squared_list.append(best_R_squared)\n",
        "    features_list[i] = features.copy()"
      ],
      "execution_count": 0,
      "outputs": []
    },
    {
      "cell_type": "code",
      "metadata": {
        "id": "rHoh0CSBlXeM",
        "colab_type": "code",
        "colab": {}
      },
      "source": [
        "print('Forward stepwise subset selection')\n",
        "print('Number of features |', 'Features |', 'RSS')\n",
        "df1 = pd.concat([pd.DataFrame({'features':features_list}),pd.DataFrame({'RSS':RSS_list, 'R_squared': R_squared_list})], axis=1, join='inner')\n",
        "df1['numb_features'] = df1.index\n"
      ],
      "execution_count": 0,
      "outputs": []
    },
    {
      "cell_type": "code",
      "metadata": {
        "id": "o_8woHHXD7bS",
        "colab_type": "code",
        "colab": {
          "base_uri": "https://localhost:8080/",
          "height": 231
        },
        "outputId": "0fc1086f-7239-444f-b0d8-1781f9097ae1"
      },
      "source": [
        "#Initializing useful variables\n",
        "m = len(Y)\n",
        "p = 5\n",
        "hat_sigma_squared = (1/(m - p -1)) * min(df1['RSS'])\n",
        "\n",
        "#Computing\n",
        "df1['C_p'] = (1/m) * (df1['RSS'] + 2 * df1['numb_features'] * hat_sigma_squared )\n",
        "df1['AIC'] = (1/(m*hat_sigma_squared)) * (df1['RSS'] + 2 * df1['numb_features'] * hat_sigma_squared )\n",
        "df1['BIC'] = (1/(m*hat_sigma_squared)) * (df1['RSS'] +  np.log(m) * df1['numb_features'] * hat_sigma_squared )\n",
        "df1['R_squared_adj'] = 1 - ( (1 - df1['R_squared'])*(m-1)/(m-df1['numb_features'] -1))\n",
        "df1\n"
      ],
      "execution_count": 420,
      "outputs": [
        {
          "output_type": "error",
          "ename": "ValueError",
          "evalue": "ignored",
          "traceback": [
            "\u001b[0;31m---------------------------------------------------------------------------\u001b[0m",
            "\u001b[0;31mValueError\u001b[0m                                Traceback (most recent call last)",
            "\u001b[0;32m<ipython-input-420-f343f675f072>\u001b[0m in \u001b[0;36m<module>\u001b[0;34m()\u001b[0m\n\u001b[1;32m      1\u001b[0m \u001b[0mm\u001b[0m \u001b[0;34m=\u001b[0m \u001b[0mlen\u001b[0m\u001b[0;34m(\u001b[0m\u001b[0mY\u001b[0m\u001b[0;34m)\u001b[0m\u001b[0;34m\u001b[0m\u001b[0;34m\u001b[0m\u001b[0m\n\u001b[1;32m      2\u001b[0m \u001b[0mp\u001b[0m \u001b[0;34m=\u001b[0m \u001b[0;36m5\u001b[0m\u001b[0;34m\u001b[0m\u001b[0;34m\u001b[0m\u001b[0m\n\u001b[0;32m----> 3\u001b[0;31m \u001b[0mhat_sigma_squared\u001b[0m \u001b[0;34m=\u001b[0m \u001b[0;34m(\u001b[0m\u001b[0;36m1\u001b[0m\u001b[0;34m/\u001b[0m\u001b[0;34m(\u001b[0m\u001b[0mm\u001b[0m \u001b[0;34m-\u001b[0m \u001b[0mp\u001b[0m \u001b[0;34m-\u001b[0m\u001b[0;36m1\u001b[0m\u001b[0;34m)\u001b[0m\u001b[0;34m)\u001b[0m \u001b[0;34m*\u001b[0m \u001b[0mmin\u001b[0m\u001b[0;34m(\u001b[0m\u001b[0mdf1\u001b[0m\u001b[0;34m[\u001b[0m\u001b[0;34m'RSS'\u001b[0m\u001b[0;34m]\u001b[0m\u001b[0;34m)\u001b[0m\u001b[0;34m\u001b[0m\u001b[0;34m\u001b[0m\u001b[0m\n\u001b[0m\u001b[1;32m      4\u001b[0m \u001b[0;34m\u001b[0m\u001b[0m\n\u001b[1;32m      5\u001b[0m \u001b[0;31m#Computing\u001b[0m\u001b[0;34m\u001b[0m\u001b[0;34m\u001b[0m\u001b[0;34m\u001b[0m\u001b[0m\n",
            "\u001b[0;31mValueError\u001b[0m: min() arg is an empty sequence"
          ]
        }
      ]
    }
  ]
}